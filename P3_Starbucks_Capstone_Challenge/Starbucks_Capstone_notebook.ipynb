{
 "cells": [
  {
   "cell_type": "markdown",
   "metadata": {},
   "source": [
    "# Starbucks Capstone Challenge\n",
    "\n",
    "### Introduction\n",
    "\n",
    "This data set contains simulated data that mimics customer behavior on the Starbucks rewards mobile app. Once every few days, Starbucks sends out an offer to users of the mobile app. An offer can be merely an advertisement for a drink or an actual offer such as a discount or BOGO (buy one get one free). Some users might not receive any offer during certain weeks. \n",
    "\n",
    "Not all users receive the same offer, and that is the challenge to solve with this data set.\n",
    "\n",
    "Your task is to combine transaction, demographic and offer data to determine which demographic groups respond best to which offer type. This data set is a simplified version of the real Starbucks app because the underlying simulator only has one product whereas Starbucks actually sells dozens of products.\n",
    "\n",
    "Every offer has a validity period before the offer expires. As an example, a BOGO offer might be valid for only 5 days. You'll see in the data set that informational offers have a validity period even though these ads are merely providing information about a product; for example, if an informational offer has 7 days of validity, you can assume the customer is feeling the influence of the offer for 7 days after receiving the advertisement.\n",
    "\n",
    "You'll be given transactional data showing user purchases made on the app including the timestamp of purchase and the amount of money spent on a purchase. This transactional data also has a record for each offer that a user receives as well as a record for when a user actually views the offer. There are also records for when a user completes an offer. \n",
    "\n",
    "Keep in mind as well that someone using the app might make a purchase through the app without having received an offer or seen an offer.\n",
    "\n",
    "### Example\n",
    "\n",
    "To give an example, a user could receive a discount offer buy 10 dollars get 2 off on Monday. The offer is valid for 10 days from receipt. If the customer accumulates at least 10 dollars in purchases during the validity period, the customer completes the offer.\n",
    "\n",
    "However, there are a few things to watch out for in this data set. Customers do not opt into the offers that they receive; in other words, a user can receive an offer, never actually view the offer, and still complete the offer. For example, a user might receive the \"buy 10 dollars get 2 dollars off offer\", but the user never opens the offer during the 10 day validity period. The customer spends 15 dollars during those ten days. There will be an offer completion record in the data set; however, the customer was not influenced by the offer because the customer never viewed the offer.\n",
    "\n",
    "### Cleaning\n",
    "\n",
    "This makes data cleaning especially important and tricky.\n",
    "\n",
    "You'll also want to take into account that some demographic groups will make purchases even if they don't receive an offer. From a business perspective, if a customer is going to make a 10 dollar purchase without an offer anyway, you wouldn't want to send a buy 10 dollars get 2 dollars off offer. You'll want to try to assess what a certain demographic group will buy when not receiving any offers.\n",
    "\n",
    "### Final Advice\n",
    "\n",
    "Because this is a capstone project, you are free to analyze the data any way you see fit. For example, you could build a machine learning model that predicts how much someone will spend based on demographics and offer type. Or you could build a model that predicts whether or not someone will respond to an offer. Or, you don't need to build a machine learning model at all. You could develop a set of heuristics that determine what offer you should send to each customer (i.e., 75 percent of women customers who were 35 years old responded to offer A vs 40 percent from the same demographic to offer B, so send offer A)."
   ]
  },
  {
   "cell_type": "markdown",
   "metadata": {},
   "source": [
    "# Data Sets\n",
    "\n",
    "The data is contained in three files:\n",
    "\n",
    "* portfolio.json - containing offer ids and meta data about each offer (duration, type, etc.)\n",
    "* profile.json - demographic data for each customer\n",
    "* transcript.json - records for transactions, offers received, offers viewed, and offers completed\n",
    "\n",
    "Here is the schema and explanation of each variable in the files:\n",
    "\n",
    "**portfolio.json**\n",
    "* id (string) - offer id\n",
    "* offer_type (string) - type of offer ie BOGO, discount, informational\n",
    "* difficulty (int) - minimum required spend to complete an offer\n",
    "* reward (int) - reward given for completing an offer\n",
    "* duration (int) - time for offer to be open, in days\n",
    "* channels (list of strings)\n",
    "\n",
    "**profile.json**\n",
    "* age (int) - age of the customer \n",
    "* became_member_on (int) - date when customer created an app account\n",
    "* gender (str) - gender of the customer (note some entries contain 'O' for other rather than M or F)\n",
    "* id (str) - customer id\n",
    "* income (float) - customer's income\n",
    "\n",
    "**transcript.json**\n",
    "* event (str) - record description (ie transaction, offer received, offer viewed, etc.)\n",
    "* person (str) - customer id\n",
    "* time (int) - time in hours since start of test. The data begins at time t=0\n",
    "* value - (dict of strings) - either an offer id or transaction amount depending on the record\n",
    "\n",
    "**Note:** If you are using the workspace, you will need to go to the terminal and run the command `conda update pandas` before reading in the files. This is because the version of pandas in the workspace cannot read in the transcript.json file correctly, but the newest version of pandas can. You can access the termnal from the orange icon in the top left of this notebook.  \n",
    "\n",
    "You can see how to access the terminal and how the install works using the two images below.  First you need to access the terminal:\n",
    "\n",
    "<img src=\"pic1.png\"/>\n",
    "\n",
    "Then you will want to run the above command:\n",
    "\n",
    "<img src=\"pic2.png\"/>\n",
    "\n",
    "Finally, when you enter back into the notebook (use the jupyter icon again), you should be able to run the below cell without any errors."
   ]
  },
  {
   "cell_type": "code",
   "execution_count": 1,
   "metadata": {},
   "outputs": [
    {
     "name": "stderr",
     "output_type": "stream",
     "text": [
      "/opt/conda/lib/python3.6/site-packages/sklearn/cross_validation.py:41: DeprecationWarning: This module was deprecated in version 0.18 in favor of the model_selection module into which all the refactored classes and functions are moved. Also note that the interface of the new CV iterators are different from that of this module. This module will be removed in 0.20.\n",
      "  \"This module will be removed in 0.20.\", DeprecationWarning)\n",
      "/opt/conda/lib/python3.6/site-packages/sklearn/grid_search.py:42: DeprecationWarning: This module was deprecated in version 0.18 in favor of the model_selection module into which all the refactored classes and functions are moved. This module will be removed in 0.20.\n",
      "  DeprecationWarning)\n"
     ]
    }
   ],
   "source": [
    "import pandas as pd\n",
    "import numpy as np\n",
    "import math\n",
    "import json\n",
    "import seaborn as sns\n",
    "import matplotlib.pyplot as plt\n",
    "import time\n",
    "\n",
    "from sklearn.model_selection import train_test_split\n",
    "from sklearn.ensemble import RandomForestClassifier, AdaBoostClassifier, GradientBoostingClassifier\n",
    "from sklearn.preprocessing import MinMaxScaler\n",
    "from sklearn.metrics import confusion_matrix, accuracy_score, classification_report, f1_score\n",
    "from sklearn.utils import shuffle\n",
    "from sklearn.svm import LinearSVC\n",
    "from sklearn.linear_model import LogisticRegression\n",
    "from sklearn.grid_search import GridSearchCV\n",
    "\n",
    "% matplotlib inline\n",
    "\n",
    "RANDOM_STATE = 40"
   ]
  },
  {
   "cell_type": "code",
   "execution_count": 2,
   "metadata": {},
   "outputs": [],
   "source": [
    "# read in the json files\n",
    "portfolio = pd.read_json('data/portfolio.json', orient='records', lines=True)\n",
    "profile = pd.read_json('data/profile.json', orient='records', lines=True)\n",
    "transcript = pd.read_json('data/transcript.json', orient='records', lines=True)"
   ]
  },
  {
   "cell_type": "markdown",
   "metadata": {},
   "source": [
    "# Data Cleaning and Exploration\n",
    "\n",
    "The first step will be to better explore the data set, in order to clean and better organize the information before looking for a model that fits well to the problem."
   ]
  },
  {
   "cell_type": "markdown",
   "metadata": {},
   "source": [
    "## Portfolio Dataset"
   ]
  },
  {
   "cell_type": "code",
   "execution_count": 3,
   "metadata": {},
   "outputs": [
    {
     "data": {
      "text/html": [
       "<div>\n",
       "<style scoped>\n",
       "    .dataframe tbody tr th:only-of-type {\n",
       "        vertical-align: middle;\n",
       "    }\n",
       "\n",
       "    .dataframe tbody tr th {\n",
       "        vertical-align: top;\n",
       "    }\n",
       "\n",
       "    .dataframe thead th {\n",
       "        text-align: right;\n",
       "    }\n",
       "</style>\n",
       "<table border=\"1\" class=\"dataframe\">\n",
       "  <thead>\n",
       "    <tr style=\"text-align: right;\">\n",
       "      <th></th>\n",
       "      <th>channels</th>\n",
       "      <th>difficulty</th>\n",
       "      <th>duration</th>\n",
       "      <th>id</th>\n",
       "      <th>offer_type</th>\n",
       "      <th>reward</th>\n",
       "    </tr>\n",
       "  </thead>\n",
       "  <tbody>\n",
       "    <tr>\n",
       "      <th>0</th>\n",
       "      <td>[email, mobile, social]</td>\n",
       "      <td>10</td>\n",
       "      <td>7</td>\n",
       "      <td>ae264e3637204a6fb9bb56bc8210ddfd</td>\n",
       "      <td>bogo</td>\n",
       "      <td>10</td>\n",
       "    </tr>\n",
       "    <tr>\n",
       "      <th>1</th>\n",
       "      <td>[web, email, mobile, social]</td>\n",
       "      <td>10</td>\n",
       "      <td>5</td>\n",
       "      <td>4d5c57ea9a6940dd891ad53e9dbe8da0</td>\n",
       "      <td>bogo</td>\n",
       "      <td>10</td>\n",
       "    </tr>\n",
       "    <tr>\n",
       "      <th>2</th>\n",
       "      <td>[web, email, mobile]</td>\n",
       "      <td>0</td>\n",
       "      <td>4</td>\n",
       "      <td>3f207df678b143eea3cee63160fa8bed</td>\n",
       "      <td>informational</td>\n",
       "      <td>0</td>\n",
       "    </tr>\n",
       "    <tr>\n",
       "      <th>3</th>\n",
       "      <td>[web, email, mobile]</td>\n",
       "      <td>5</td>\n",
       "      <td>7</td>\n",
       "      <td>9b98b8c7a33c4b65b9aebfe6a799e6d9</td>\n",
       "      <td>bogo</td>\n",
       "      <td>5</td>\n",
       "    </tr>\n",
       "    <tr>\n",
       "      <th>4</th>\n",
       "      <td>[web, email]</td>\n",
       "      <td>20</td>\n",
       "      <td>10</td>\n",
       "      <td>0b1e1539f2cc45b7b9fa7c272da2e1d7</td>\n",
       "      <td>discount</td>\n",
       "      <td>5</td>\n",
       "    </tr>\n",
       "  </tbody>\n",
       "</table>\n",
       "</div>"
      ],
      "text/plain": [
       "                       channels  difficulty  duration  \\\n",
       "0       [email, mobile, social]          10         7   \n",
       "1  [web, email, mobile, social]          10         5   \n",
       "2          [web, email, mobile]           0         4   \n",
       "3          [web, email, mobile]           5         7   \n",
       "4                  [web, email]          20        10   \n",
       "\n",
       "                                 id     offer_type  reward  \n",
       "0  ae264e3637204a6fb9bb56bc8210ddfd           bogo      10  \n",
       "1  4d5c57ea9a6940dd891ad53e9dbe8da0           bogo      10  \n",
       "2  3f207df678b143eea3cee63160fa8bed  informational       0  \n",
       "3  9b98b8c7a33c4b65b9aebfe6a799e6d9           bogo       5  \n",
       "4  0b1e1539f2cc45b7b9fa7c272da2e1d7       discount       5  "
      ]
     },
     "execution_count": 3,
     "metadata": {},
     "output_type": "execute_result"
    }
   ],
   "source": [
    "# portfolio.json data exploration\n",
    "portfolio.head()"
   ]
  },
  {
   "cell_type": "markdown",
   "metadata": {},
   "source": [
    "* Split channels into columns\n",
    "* Duration appears to be in days\n",
    "* Offer type categorical, split into columns one-hot encoded"
   ]
  },
  {
   "cell_type": "code",
   "execution_count": 4,
   "metadata": {},
   "outputs": [
    {
     "data": {
      "text/html": [
       "<div>\n",
       "<style scoped>\n",
       "    .dataframe tbody tr th:only-of-type {\n",
       "        vertical-align: middle;\n",
       "    }\n",
       "\n",
       "    .dataframe tbody tr th {\n",
       "        vertical-align: top;\n",
       "    }\n",
       "\n",
       "    .dataframe thead th {\n",
       "        text-align: right;\n",
       "    }\n",
       "</style>\n",
       "<table border=\"1\" class=\"dataframe\">\n",
       "  <thead>\n",
       "    <tr style=\"text-align: right;\">\n",
       "      <th></th>\n",
       "      <th>difficulty</th>\n",
       "      <th>duration</th>\n",
       "      <th>reward</th>\n",
       "    </tr>\n",
       "  </thead>\n",
       "  <tbody>\n",
       "    <tr>\n",
       "      <th>count</th>\n",
       "      <td>10.000000</td>\n",
       "      <td>10.000000</td>\n",
       "      <td>10.000000</td>\n",
       "    </tr>\n",
       "    <tr>\n",
       "      <th>mean</th>\n",
       "      <td>7.700000</td>\n",
       "      <td>6.500000</td>\n",
       "      <td>4.200000</td>\n",
       "    </tr>\n",
       "    <tr>\n",
       "      <th>std</th>\n",
       "      <td>5.831905</td>\n",
       "      <td>2.321398</td>\n",
       "      <td>3.583915</td>\n",
       "    </tr>\n",
       "    <tr>\n",
       "      <th>min</th>\n",
       "      <td>0.000000</td>\n",
       "      <td>3.000000</td>\n",
       "      <td>0.000000</td>\n",
       "    </tr>\n",
       "    <tr>\n",
       "      <th>25%</th>\n",
       "      <td>5.000000</td>\n",
       "      <td>5.000000</td>\n",
       "      <td>2.000000</td>\n",
       "    </tr>\n",
       "    <tr>\n",
       "      <th>50%</th>\n",
       "      <td>8.500000</td>\n",
       "      <td>7.000000</td>\n",
       "      <td>4.000000</td>\n",
       "    </tr>\n",
       "    <tr>\n",
       "      <th>75%</th>\n",
       "      <td>10.000000</td>\n",
       "      <td>7.000000</td>\n",
       "      <td>5.000000</td>\n",
       "    </tr>\n",
       "    <tr>\n",
       "      <th>max</th>\n",
       "      <td>20.000000</td>\n",
       "      <td>10.000000</td>\n",
       "      <td>10.000000</td>\n",
       "    </tr>\n",
       "  </tbody>\n",
       "</table>\n",
       "</div>"
      ],
      "text/plain": [
       "       difficulty   duration     reward\n",
       "count   10.000000  10.000000  10.000000\n",
       "mean     7.700000   6.500000   4.200000\n",
       "std      5.831905   2.321398   3.583915\n",
       "min      0.000000   3.000000   0.000000\n",
       "25%      5.000000   5.000000   2.000000\n",
       "50%      8.500000   7.000000   4.000000\n",
       "75%     10.000000   7.000000   5.000000\n",
       "max     20.000000  10.000000  10.000000"
      ]
     },
     "execution_count": 4,
     "metadata": {},
     "output_type": "execute_result"
    }
   ],
   "source": [
    "portfolio.describe()"
   ]
  },
  {
   "cell_type": "code",
   "execution_count": 5,
   "metadata": {},
   "outputs": [
    {
     "name": "stdout",
     "output_type": "stream",
     "text": [
      "<class 'pandas.core.frame.DataFrame'>\n",
      "RangeIndex: 10 entries, 0 to 9\n",
      "Data columns (total 6 columns):\n",
      "channels      10 non-null object\n",
      "difficulty    10 non-null int64\n",
      "duration      10 non-null int64\n",
      "id            10 non-null object\n",
      "offer_type    10 non-null object\n",
      "reward        10 non-null int64\n",
      "dtypes: int64(3), object(3)\n",
      "memory usage: 560.0+ bytes\n"
     ]
    }
   ],
   "source": [
    "portfolio.info()"
   ]
  },
  {
   "cell_type": "markdown",
   "metadata": {},
   "source": [
    "Does not have null values, as described above.\n",
    "\n",
    "* Rename id to offer_id and use this as table index"
   ]
  },
  {
   "cell_type": "code",
   "execution_count": 6,
   "metadata": {},
   "outputs": [],
   "source": [
    "def clean_portfolio(df):\n",
    "    df_clean = df.copy()\n",
    "    \n",
    "    df_channel = pd.get_dummies(df_clean['channels'].apply(pd.Series).stack(), prefix='channel').sum(level=0)\n",
    "    print('(clean_portfolio): Split channel data')\n",
    "    \n",
    "    df_clean = pd.concat([df_clean, df_channel], axis=1, sort=False)\n",
    "    print('(clean_portfolio): Merge two datasets')\n",
    "    \n",
    "    df_clean.drop(columns='channels', inplace=True)\n",
    "    print('(clean_portfolio): Drop original channels column...')\n",
    "    \n",
    "    df_offer_type = pd.get_dummies(df_clean['offer_type'].apply(pd.Series).stack(), prefix='offer_type').sum(level=0)\n",
    "    print('(clean_portfolio): Split offer_type data')\n",
    "    \n",
    "    df_clean = pd.concat([df_clean, df_offer_type], axis=1, sort=False)\n",
    "    print('(clean_portfolio): Merge two datasets')\n",
    "    \n",
    "    df_clean.rename(columns={'id':'offer_id'}, inplace=True)\n",
    "    print('(clean_portfolio): Rename id to offer_id...')\n",
    "\n",
    "    return df_clean"
   ]
  },
  {
   "cell_type": "code",
   "execution_count": 7,
   "metadata": {},
   "outputs": [
    {
     "name": "stdout",
     "output_type": "stream",
     "text": [
      "(clean_portfolio): Split channel data\n",
      "(clean_portfolio): Merge two datasets\n",
      "(clean_portfolio): Drop original channels column...\n",
      "(clean_portfolio): Split offer_type data\n",
      "(clean_portfolio): Merge two datasets\n",
      "(clean_portfolio): Rename id to offer_id...\n"
     ]
    }
   ],
   "source": [
    "# clean portfolio dataset\n",
    "portfolio_cleaned = clean_portfolio(portfolio)"
   ]
  },
  {
   "cell_type": "code",
   "execution_count": 8,
   "metadata": {},
   "outputs": [
    {
     "data": {
      "text/html": [
       "<div>\n",
       "<style scoped>\n",
       "    .dataframe tbody tr th:only-of-type {\n",
       "        vertical-align: middle;\n",
       "    }\n",
       "\n",
       "    .dataframe tbody tr th {\n",
       "        vertical-align: top;\n",
       "    }\n",
       "\n",
       "    .dataframe thead th {\n",
       "        text-align: right;\n",
       "    }\n",
       "</style>\n",
       "<table border=\"1\" class=\"dataframe\">\n",
       "  <thead>\n",
       "    <tr style=\"text-align: right;\">\n",
       "      <th></th>\n",
       "      <th>difficulty</th>\n",
       "      <th>duration</th>\n",
       "      <th>offer_id</th>\n",
       "      <th>offer_type</th>\n",
       "      <th>reward</th>\n",
       "      <th>channel_email</th>\n",
       "      <th>channel_mobile</th>\n",
       "      <th>channel_social</th>\n",
       "      <th>channel_web</th>\n",
       "      <th>offer_type_bogo</th>\n",
       "      <th>offer_type_discount</th>\n",
       "      <th>offer_type_informational</th>\n",
       "    </tr>\n",
       "  </thead>\n",
       "  <tbody>\n",
       "    <tr>\n",
       "      <th>0</th>\n",
       "      <td>10</td>\n",
       "      <td>7</td>\n",
       "      <td>ae264e3637204a6fb9bb56bc8210ddfd</td>\n",
       "      <td>bogo</td>\n",
       "      <td>10</td>\n",
       "      <td>1</td>\n",
       "      <td>1</td>\n",
       "      <td>1</td>\n",
       "      <td>0</td>\n",
       "      <td>1</td>\n",
       "      <td>0</td>\n",
       "      <td>0</td>\n",
       "    </tr>\n",
       "    <tr>\n",
       "      <th>1</th>\n",
       "      <td>10</td>\n",
       "      <td>5</td>\n",
       "      <td>4d5c57ea9a6940dd891ad53e9dbe8da0</td>\n",
       "      <td>bogo</td>\n",
       "      <td>10</td>\n",
       "      <td>1</td>\n",
       "      <td>1</td>\n",
       "      <td>1</td>\n",
       "      <td>1</td>\n",
       "      <td>1</td>\n",
       "      <td>0</td>\n",
       "      <td>0</td>\n",
       "    </tr>\n",
       "    <tr>\n",
       "      <th>2</th>\n",
       "      <td>0</td>\n",
       "      <td>4</td>\n",
       "      <td>3f207df678b143eea3cee63160fa8bed</td>\n",
       "      <td>informational</td>\n",
       "      <td>0</td>\n",
       "      <td>1</td>\n",
       "      <td>1</td>\n",
       "      <td>0</td>\n",
       "      <td>1</td>\n",
       "      <td>0</td>\n",
       "      <td>0</td>\n",
       "      <td>1</td>\n",
       "    </tr>\n",
       "    <tr>\n",
       "      <th>3</th>\n",
       "      <td>5</td>\n",
       "      <td>7</td>\n",
       "      <td>9b98b8c7a33c4b65b9aebfe6a799e6d9</td>\n",
       "      <td>bogo</td>\n",
       "      <td>5</td>\n",
       "      <td>1</td>\n",
       "      <td>1</td>\n",
       "      <td>0</td>\n",
       "      <td>1</td>\n",
       "      <td>1</td>\n",
       "      <td>0</td>\n",
       "      <td>0</td>\n",
       "    </tr>\n",
       "    <tr>\n",
       "      <th>4</th>\n",
       "      <td>20</td>\n",
       "      <td>10</td>\n",
       "      <td>0b1e1539f2cc45b7b9fa7c272da2e1d7</td>\n",
       "      <td>discount</td>\n",
       "      <td>5</td>\n",
       "      <td>1</td>\n",
       "      <td>0</td>\n",
       "      <td>0</td>\n",
       "      <td>1</td>\n",
       "      <td>0</td>\n",
       "      <td>1</td>\n",
       "      <td>0</td>\n",
       "    </tr>\n",
       "    <tr>\n",
       "      <th>5</th>\n",
       "      <td>7</td>\n",
       "      <td>7</td>\n",
       "      <td>2298d6c36e964ae4a3e7e9706d1fb8c2</td>\n",
       "      <td>discount</td>\n",
       "      <td>3</td>\n",
       "      <td>1</td>\n",
       "      <td>1</td>\n",
       "      <td>1</td>\n",
       "      <td>1</td>\n",
       "      <td>0</td>\n",
       "      <td>1</td>\n",
       "      <td>0</td>\n",
       "    </tr>\n",
       "    <tr>\n",
       "      <th>6</th>\n",
       "      <td>10</td>\n",
       "      <td>10</td>\n",
       "      <td>fafdcd668e3743c1bb461111dcafc2a4</td>\n",
       "      <td>discount</td>\n",
       "      <td>2</td>\n",
       "      <td>1</td>\n",
       "      <td>1</td>\n",
       "      <td>1</td>\n",
       "      <td>1</td>\n",
       "      <td>0</td>\n",
       "      <td>1</td>\n",
       "      <td>0</td>\n",
       "    </tr>\n",
       "    <tr>\n",
       "      <th>7</th>\n",
       "      <td>0</td>\n",
       "      <td>3</td>\n",
       "      <td>5a8bc65990b245e5a138643cd4eb9837</td>\n",
       "      <td>informational</td>\n",
       "      <td>0</td>\n",
       "      <td>1</td>\n",
       "      <td>1</td>\n",
       "      <td>1</td>\n",
       "      <td>0</td>\n",
       "      <td>0</td>\n",
       "      <td>0</td>\n",
       "      <td>1</td>\n",
       "    </tr>\n",
       "    <tr>\n",
       "      <th>8</th>\n",
       "      <td>5</td>\n",
       "      <td>5</td>\n",
       "      <td>f19421c1d4aa40978ebb69ca19b0e20d</td>\n",
       "      <td>bogo</td>\n",
       "      <td>5</td>\n",
       "      <td>1</td>\n",
       "      <td>1</td>\n",
       "      <td>1</td>\n",
       "      <td>1</td>\n",
       "      <td>1</td>\n",
       "      <td>0</td>\n",
       "      <td>0</td>\n",
       "    </tr>\n",
       "    <tr>\n",
       "      <th>9</th>\n",
       "      <td>10</td>\n",
       "      <td>7</td>\n",
       "      <td>2906b810c7d4411798c6938adc9daaa5</td>\n",
       "      <td>discount</td>\n",
       "      <td>2</td>\n",
       "      <td>1</td>\n",
       "      <td>1</td>\n",
       "      <td>0</td>\n",
       "      <td>1</td>\n",
       "      <td>0</td>\n",
       "      <td>1</td>\n",
       "      <td>0</td>\n",
       "    </tr>\n",
       "  </tbody>\n",
       "</table>\n",
       "</div>"
      ],
      "text/plain": [
       "   difficulty  duration                          offer_id     offer_type  \\\n",
       "0          10         7  ae264e3637204a6fb9bb56bc8210ddfd           bogo   \n",
       "1          10         5  4d5c57ea9a6940dd891ad53e9dbe8da0           bogo   \n",
       "2           0         4  3f207df678b143eea3cee63160fa8bed  informational   \n",
       "3           5         7  9b98b8c7a33c4b65b9aebfe6a799e6d9           bogo   \n",
       "4          20        10  0b1e1539f2cc45b7b9fa7c272da2e1d7       discount   \n",
       "5           7         7  2298d6c36e964ae4a3e7e9706d1fb8c2       discount   \n",
       "6          10        10  fafdcd668e3743c1bb461111dcafc2a4       discount   \n",
       "7           0         3  5a8bc65990b245e5a138643cd4eb9837  informational   \n",
       "8           5         5  f19421c1d4aa40978ebb69ca19b0e20d           bogo   \n",
       "9          10         7  2906b810c7d4411798c6938adc9daaa5       discount   \n",
       "\n",
       "   reward  channel_email  channel_mobile  channel_social  channel_web  \\\n",
       "0      10              1               1               1            0   \n",
       "1      10              1               1               1            1   \n",
       "2       0              1               1               0            1   \n",
       "3       5              1               1               0            1   \n",
       "4       5              1               0               0            1   \n",
       "5       3              1               1               1            1   \n",
       "6       2              1               1               1            1   \n",
       "7       0              1               1               1            0   \n",
       "8       5              1               1               1            1   \n",
       "9       2              1               1               0            1   \n",
       "\n",
       "   offer_type_bogo  offer_type_discount  offer_type_informational  \n",
       "0                1                    0                         0  \n",
       "1                1                    0                         0  \n",
       "2                0                    0                         1  \n",
       "3                1                    0                         0  \n",
       "4                0                    1                         0  \n",
       "5                0                    1                         0  \n",
       "6                0                    1                         0  \n",
       "7                0                    0                         1  \n",
       "8                1                    0                         0  \n",
       "9                0                    1                         0  "
      ]
     },
     "execution_count": 8,
     "metadata": {},
     "output_type": "execute_result"
    }
   ],
   "source": [
    "portfolio_cleaned.head(10)"
   ]
  },
  {
   "cell_type": "code",
   "execution_count": 9,
   "metadata": {},
   "outputs": [
    {
     "data": {
      "text/plain": [
       "offer_type\n",
       "bogo             4\n",
       "discount         4\n",
       "informational    2\n",
       "Name: offer_id, dtype: int64"
      ]
     },
     "execution_count": 9,
     "metadata": {},
     "output_type": "execute_result"
    }
   ],
   "source": [
    "# group common offers\n",
    "portfolio_cleaned.groupby('offer_type')['offer_id'].count()"
   ]
  },
  {
   "cell_type": "markdown",
   "metadata": {},
   "source": [
    "We can see that there are 3 different types of offers that can be offered to the company's customers."
   ]
  },
  {
   "cell_type": "markdown",
   "metadata": {},
   "source": [
    "## Profile Dataset"
   ]
  },
  {
   "cell_type": "code",
   "execution_count": 10,
   "metadata": {
    "scrolled": true
   },
   "outputs": [
    {
     "data": {
      "text/html": [
       "<div>\n",
       "<style scoped>\n",
       "    .dataframe tbody tr th:only-of-type {\n",
       "        vertical-align: middle;\n",
       "    }\n",
       "\n",
       "    .dataframe tbody tr th {\n",
       "        vertical-align: top;\n",
       "    }\n",
       "\n",
       "    .dataframe thead th {\n",
       "        text-align: right;\n",
       "    }\n",
       "</style>\n",
       "<table border=\"1\" class=\"dataframe\">\n",
       "  <thead>\n",
       "    <tr style=\"text-align: right;\">\n",
       "      <th></th>\n",
       "      <th>age</th>\n",
       "      <th>became_member_on</th>\n",
       "      <th>gender</th>\n",
       "      <th>id</th>\n",
       "      <th>income</th>\n",
       "    </tr>\n",
       "  </thead>\n",
       "  <tbody>\n",
       "    <tr>\n",
       "      <th>0</th>\n",
       "      <td>118</td>\n",
       "      <td>20170212</td>\n",
       "      <td>None</td>\n",
       "      <td>68be06ca386d4c31939f3a4f0e3dd783</td>\n",
       "      <td>NaN</td>\n",
       "    </tr>\n",
       "    <tr>\n",
       "      <th>1</th>\n",
       "      <td>55</td>\n",
       "      <td>20170715</td>\n",
       "      <td>F</td>\n",
       "      <td>0610b486422d4921ae7d2bf64640c50b</td>\n",
       "      <td>112000.0</td>\n",
       "    </tr>\n",
       "    <tr>\n",
       "      <th>2</th>\n",
       "      <td>118</td>\n",
       "      <td>20180712</td>\n",
       "      <td>None</td>\n",
       "      <td>38fe809add3b4fcf9315a9694bb96ff5</td>\n",
       "      <td>NaN</td>\n",
       "    </tr>\n",
       "    <tr>\n",
       "      <th>3</th>\n",
       "      <td>75</td>\n",
       "      <td>20170509</td>\n",
       "      <td>F</td>\n",
       "      <td>78afa995795e4d85b5d9ceeca43f5fef</td>\n",
       "      <td>100000.0</td>\n",
       "    </tr>\n",
       "    <tr>\n",
       "      <th>4</th>\n",
       "      <td>118</td>\n",
       "      <td>20170804</td>\n",
       "      <td>None</td>\n",
       "      <td>a03223e636434f42ac4c3df47e8bac43</td>\n",
       "      <td>NaN</td>\n",
       "    </tr>\n",
       "  </tbody>\n",
       "</table>\n",
       "</div>"
      ],
      "text/plain": [
       "   age  became_member_on gender                                id    income\n",
       "0  118          20170212   None  68be06ca386d4c31939f3a4f0e3dd783       NaN\n",
       "1   55          20170715      F  0610b486422d4921ae7d2bf64640c50b  112000.0\n",
       "2  118          20180712   None  38fe809add3b4fcf9315a9694bb96ff5       NaN\n",
       "3   75          20170509      F  78afa995795e4d85b5d9ceeca43f5fef  100000.0\n",
       "4  118          20170804   None  a03223e636434f42ac4c3df47e8bac43       NaN"
      ]
     },
     "execution_count": 10,
     "metadata": {},
     "output_type": "execute_result"
    }
   ],
   "source": [
    "# profile.json data exploration\n",
    "profile.head()"
   ]
  },
  {
   "cell_type": "markdown",
   "metadata": {},
   "source": [
    "* Check and correct non-existent values\n",
    "* Rename id to customer_id\n",
    "* Add dummy column for gender\n",
    "* Convert became_member_on to date field"
   ]
  },
  {
   "cell_type": "code",
   "execution_count": 11,
   "metadata": {},
   "outputs": [
    {
     "data": {
      "text/html": [
       "<div>\n",
       "<style scoped>\n",
       "    .dataframe tbody tr th:only-of-type {\n",
       "        vertical-align: middle;\n",
       "    }\n",
       "\n",
       "    .dataframe tbody tr th {\n",
       "        vertical-align: top;\n",
       "    }\n",
       "\n",
       "    .dataframe thead th {\n",
       "        text-align: right;\n",
       "    }\n",
       "</style>\n",
       "<table border=\"1\" class=\"dataframe\">\n",
       "  <thead>\n",
       "    <tr style=\"text-align: right;\">\n",
       "      <th></th>\n",
       "      <th>age</th>\n",
       "      <th>became_member_on</th>\n",
       "      <th>income</th>\n",
       "    </tr>\n",
       "  </thead>\n",
       "  <tbody>\n",
       "    <tr>\n",
       "      <th>count</th>\n",
       "      <td>17000.000000</td>\n",
       "      <td>1.700000e+04</td>\n",
       "      <td>14825.000000</td>\n",
       "    </tr>\n",
       "    <tr>\n",
       "      <th>mean</th>\n",
       "      <td>62.531412</td>\n",
       "      <td>2.016703e+07</td>\n",
       "      <td>65404.991568</td>\n",
       "    </tr>\n",
       "    <tr>\n",
       "      <th>std</th>\n",
       "      <td>26.738580</td>\n",
       "      <td>1.167750e+04</td>\n",
       "      <td>21598.299410</td>\n",
       "    </tr>\n",
       "    <tr>\n",
       "      <th>min</th>\n",
       "      <td>18.000000</td>\n",
       "      <td>2.013073e+07</td>\n",
       "      <td>30000.000000</td>\n",
       "    </tr>\n",
       "    <tr>\n",
       "      <th>25%</th>\n",
       "      <td>45.000000</td>\n",
       "      <td>2.016053e+07</td>\n",
       "      <td>49000.000000</td>\n",
       "    </tr>\n",
       "    <tr>\n",
       "      <th>50%</th>\n",
       "      <td>58.000000</td>\n",
       "      <td>2.017080e+07</td>\n",
       "      <td>64000.000000</td>\n",
       "    </tr>\n",
       "    <tr>\n",
       "      <th>75%</th>\n",
       "      <td>73.000000</td>\n",
       "      <td>2.017123e+07</td>\n",
       "      <td>80000.000000</td>\n",
       "    </tr>\n",
       "    <tr>\n",
       "      <th>max</th>\n",
       "      <td>118.000000</td>\n",
       "      <td>2.018073e+07</td>\n",
       "      <td>120000.000000</td>\n",
       "    </tr>\n",
       "  </tbody>\n",
       "</table>\n",
       "</div>"
      ],
      "text/plain": [
       "                age  became_member_on         income\n",
       "count  17000.000000      1.700000e+04   14825.000000\n",
       "mean      62.531412      2.016703e+07   65404.991568\n",
       "std       26.738580      1.167750e+04   21598.299410\n",
       "min       18.000000      2.013073e+07   30000.000000\n",
       "25%       45.000000      2.016053e+07   49000.000000\n",
       "50%       58.000000      2.017080e+07   64000.000000\n",
       "75%       73.000000      2.017123e+07   80000.000000\n",
       "max      118.000000      2.018073e+07  120000.000000"
      ]
     },
     "execution_count": 11,
     "metadata": {},
     "output_type": "execute_result"
    }
   ],
   "source": [
    "profile.describe()"
   ]
  },
  {
   "cell_type": "code",
   "execution_count": 12,
   "metadata": {},
   "outputs": [
    {
     "name": "stdout",
     "output_type": "stream",
     "text": [
      "<class 'pandas.core.frame.DataFrame'>\n",
      "RangeIndex: 17000 entries, 0 to 16999\n",
      "Data columns (total 5 columns):\n",
      "age                 17000 non-null int64\n",
      "became_member_on    17000 non-null int64\n",
      "gender              14825 non-null object\n",
      "id                  17000 non-null object\n",
      "income              14825 non-null float64\n",
      "dtypes: float64(1), int64(2), object(2)\n",
      "memory usage: 664.1+ KB\n"
     ]
    }
   ],
   "source": [
    "profile.info()"
   ]
  },
  {
   "cell_type": "code",
   "execution_count": 13,
   "metadata": {},
   "outputs": [],
   "source": [
    "def distplot_by_gender(dataframe=None, column=None, title=None):\n",
    "    if title:\n",
    "        plt.title(title)\n",
    "    sns.distplot(dataframe[dataframe[\"gender\"]=='F'][column], label='F')\n",
    "    sns.distplot(dataframe[dataframe[\"gender\"]=='M'][column], label='M')\n",
    "    plt.legend()\n",
    "    plt.gca().get_yaxis().set_visible(False)"
   ]
  },
  {
   "cell_type": "code",
   "execution_count": 14,
   "metadata": {},
   "outputs": [],
   "source": [
    "def clean_profile(df):\n",
    "    df_clean = df.copy()\n",
    "    \n",
    "    became_member_on = lambda x: pd.to_datetime(str(x), format='%Y%m%d')\n",
    "    df_clean['became_member_on'] = df_clean['became_member_on'].apply(became_member_on)\n",
    "    print('(clean_profile): Fix became_member_on field to date...')\n",
    "    \n",
    "    became_member_on_year = lambda x: x.year if x else None\n",
    "    df_clean['became_member_on_year'] = df_clean['became_member_on'].apply(became_member_on_year)\n",
    "    print('(clean_profile): Add became_member_on_year...')\n",
    "    \n",
    "    gender = lambda x: x if not x == None else \"O\"\n",
    "    df_clean['gender'] = df_clean['gender'].apply(gender)\n",
    "    print('(clean_profile): Fix gender to add other value...')\n",
    "    \n",
    "    df_gender = pd.get_dummies(df_clean['gender'], prefix='gender')\n",
    "    df_clean = pd.concat([df_clean, df_gender], axis=1, sort=False)\n",
    "    print('(clean_profile): Gender column dummy...')\n",
    "    \n",
    "    df_clean.rename(columns={'id':'customer_id'}, inplace=True)\n",
    "    return df_clean"
   ]
  },
  {
   "cell_type": "code",
   "execution_count": 15,
   "metadata": {},
   "outputs": [
    {
     "name": "stdout",
     "output_type": "stream",
     "text": [
      "(clean_profile): Fix became_member_on field to date...\n",
      "(clean_profile): Add became_member_on_year...\n",
      "(clean_profile): Fix gender to add other value...\n",
      "(clean_profile): Gender column dummy...\n"
     ]
    }
   ],
   "source": [
    "# clean profile dataset\n",
    "profile_cleaned = clean_profile(profile)"
   ]
  },
  {
   "cell_type": "code",
   "execution_count": 16,
   "metadata": {},
   "outputs": [
    {
     "data": {
      "text/html": [
       "<div>\n",
       "<style scoped>\n",
       "    .dataframe tbody tr th:only-of-type {\n",
       "        vertical-align: middle;\n",
       "    }\n",
       "\n",
       "    .dataframe tbody tr th {\n",
       "        vertical-align: top;\n",
       "    }\n",
       "\n",
       "    .dataframe thead th {\n",
       "        text-align: right;\n",
       "    }\n",
       "</style>\n",
       "<table border=\"1\" class=\"dataframe\">\n",
       "  <thead>\n",
       "    <tr style=\"text-align: right;\">\n",
       "      <th></th>\n",
       "      <th>age</th>\n",
       "      <th>became_member_on</th>\n",
       "      <th>gender</th>\n",
       "      <th>customer_id</th>\n",
       "      <th>income</th>\n",
       "      <th>became_member_on_year</th>\n",
       "      <th>gender_F</th>\n",
       "      <th>gender_M</th>\n",
       "      <th>gender_O</th>\n",
       "    </tr>\n",
       "  </thead>\n",
       "  <tbody>\n",
       "    <tr>\n",
       "      <th>0</th>\n",
       "      <td>118</td>\n",
       "      <td>2017-02-12</td>\n",
       "      <td>O</td>\n",
       "      <td>68be06ca386d4c31939f3a4f0e3dd783</td>\n",
       "      <td>NaN</td>\n",
       "      <td>2017</td>\n",
       "      <td>0</td>\n",
       "      <td>0</td>\n",
       "      <td>1</td>\n",
       "    </tr>\n",
       "    <tr>\n",
       "      <th>1</th>\n",
       "      <td>55</td>\n",
       "      <td>2017-07-15</td>\n",
       "      <td>F</td>\n",
       "      <td>0610b486422d4921ae7d2bf64640c50b</td>\n",
       "      <td>112000.0</td>\n",
       "      <td>2017</td>\n",
       "      <td>1</td>\n",
       "      <td>0</td>\n",
       "      <td>0</td>\n",
       "    </tr>\n",
       "    <tr>\n",
       "      <th>2</th>\n",
       "      <td>118</td>\n",
       "      <td>2018-07-12</td>\n",
       "      <td>O</td>\n",
       "      <td>38fe809add3b4fcf9315a9694bb96ff5</td>\n",
       "      <td>NaN</td>\n",
       "      <td>2018</td>\n",
       "      <td>0</td>\n",
       "      <td>0</td>\n",
       "      <td>1</td>\n",
       "    </tr>\n",
       "    <tr>\n",
       "      <th>3</th>\n",
       "      <td>75</td>\n",
       "      <td>2017-05-09</td>\n",
       "      <td>F</td>\n",
       "      <td>78afa995795e4d85b5d9ceeca43f5fef</td>\n",
       "      <td>100000.0</td>\n",
       "      <td>2017</td>\n",
       "      <td>1</td>\n",
       "      <td>0</td>\n",
       "      <td>0</td>\n",
       "    </tr>\n",
       "    <tr>\n",
       "      <th>4</th>\n",
       "      <td>118</td>\n",
       "      <td>2017-08-04</td>\n",
       "      <td>O</td>\n",
       "      <td>a03223e636434f42ac4c3df47e8bac43</td>\n",
       "      <td>NaN</td>\n",
       "      <td>2017</td>\n",
       "      <td>0</td>\n",
       "      <td>0</td>\n",
       "      <td>1</td>\n",
       "    </tr>\n",
       "  </tbody>\n",
       "</table>\n",
       "</div>"
      ],
      "text/plain": [
       "   age became_member_on gender                       customer_id    income  \\\n",
       "0  118       2017-02-12      O  68be06ca386d4c31939f3a4f0e3dd783       NaN   \n",
       "1   55       2017-07-15      F  0610b486422d4921ae7d2bf64640c50b  112000.0   \n",
       "2  118       2018-07-12      O  38fe809add3b4fcf9315a9694bb96ff5       NaN   \n",
       "3   75       2017-05-09      F  78afa995795e4d85b5d9ceeca43f5fef  100000.0   \n",
       "4  118       2017-08-04      O  a03223e636434f42ac4c3df47e8bac43       NaN   \n",
       "\n",
       "   became_member_on_year  gender_F  gender_M  gender_O  \n",
       "0                   2017         0         0         1  \n",
       "1                   2017         1         0         0  \n",
       "2                   2018         0         0         1  \n",
       "3                   2017         1         0         0  \n",
       "4                   2017         0         0         1  "
      ]
     },
     "execution_count": 16,
     "metadata": {},
     "output_type": "execute_result"
    }
   ],
   "source": [
    "profile_cleaned.head()"
   ]
  },
  {
   "cell_type": "code",
   "execution_count": 17,
   "metadata": {},
   "outputs": [
    {
     "data": {
      "image/png": "[encoded data removed]",
      "text/plain": [
       "<matplotlib.figure.Figure at 0x7f193fbecba8>"
      ]
     },
     "metadata": {
      "needs_background": "light"
     },
     "output_type": "display_data"
    }
   ],
   "source": [
    "plt.figure(figsize=(16,8))\n",
    "plt.subplot(221)\n",
    "distplot_by_gender(dataframe=profile_cleaned, column='age', title='Age vs. Gender')\n",
    "plt.subplot(222)\n",
    "distplot_by_gender(dataframe=profile_cleaned, column='income', title='Income vs. Gender')\n",
    "plt.subplot(223)\n",
    "sns.countplot(y='became_member_on_year', data=profile_cleaned, hue='gender');"
   ]
  },
  {
   "cell_type": "markdown",
   "metadata": {},
   "source": [
    "## Transcript Dataset"
   ]
  },
  {
   "cell_type": "code",
   "execution_count": 18,
   "metadata": {},
   "outputs": [
    {
     "data": {
      "text/html": [
       "<div>\n",
       "<style scoped>\n",
       "    .dataframe tbody tr th:only-of-type {\n",
       "        vertical-align: middle;\n",
       "    }\n",
       "\n",
       "    .dataframe tbody tr th {\n",
       "        vertical-align: top;\n",
       "    }\n",
       "\n",
       "    .dataframe thead th {\n",
       "        text-align: right;\n",
       "    }\n",
       "</style>\n",
       "<table border=\"1\" class=\"dataframe\">\n",
       "  <thead>\n",
       "    <tr style=\"text-align: right;\">\n",
       "      <th></th>\n",
       "      <th>event</th>\n",
       "      <th>person</th>\n",
       "      <th>time</th>\n",
       "      <th>value</th>\n",
       "    </tr>\n",
       "  </thead>\n",
       "  <tbody>\n",
       "    <tr>\n",
       "      <th>0</th>\n",
       "      <td>offer received</td>\n",
       "      <td>78afa995795e4d85b5d9ceeca43f5fef</td>\n",
       "      <td>0</td>\n",
       "      <td>{'offer id': '9b98b8c7a33c4b65b9aebfe6a799e6d9'}</td>\n",
       "    </tr>\n",
       "    <tr>\n",
       "      <th>1</th>\n",
       "      <td>offer received</td>\n",
       "      <td>a03223e636434f42ac4c3df47e8bac43</td>\n",
       "      <td>0</td>\n",
       "      <td>{'offer id': '0b1e1539f2cc45b7b9fa7c272da2e1d7'}</td>\n",
       "    </tr>\n",
       "    <tr>\n",
       "      <th>2</th>\n",
       "      <td>offer received</td>\n",
       "      <td>e2127556f4f64592b11af22de27a7932</td>\n",
       "      <td>0</td>\n",
       "      <td>{'offer id': '2906b810c7d4411798c6938adc9daaa5'}</td>\n",
       "    </tr>\n",
       "    <tr>\n",
       "      <th>3</th>\n",
       "      <td>offer received</td>\n",
       "      <td>8ec6ce2a7e7949b1bf142def7d0e0586</td>\n",
       "      <td>0</td>\n",
       "      <td>{'offer id': 'fafdcd668e3743c1bb461111dcafc2a4'}</td>\n",
       "    </tr>\n",
       "    <tr>\n",
       "      <th>4</th>\n",
       "      <td>offer received</td>\n",
       "      <td>68617ca6246f4fbc85e91a2a49552598</td>\n",
       "      <td>0</td>\n",
       "      <td>{'offer id': '4d5c57ea9a6940dd891ad53e9dbe8da0'}</td>\n",
       "    </tr>\n",
       "  </tbody>\n",
       "</table>\n",
       "</div>"
      ],
      "text/plain": [
       "            event                            person  time  \\\n",
       "0  offer received  78afa995795e4d85b5d9ceeca43f5fef     0   \n",
       "1  offer received  a03223e636434f42ac4c3df47e8bac43     0   \n",
       "2  offer received  e2127556f4f64592b11af22de27a7932     0   \n",
       "3  offer received  8ec6ce2a7e7949b1bf142def7d0e0586     0   \n",
       "4  offer received  68617ca6246f4fbc85e91a2a49552598     0   \n",
       "\n",
       "                                              value  \n",
       "0  {'offer id': '9b98b8c7a33c4b65b9aebfe6a799e6d9'}  \n",
       "1  {'offer id': '0b1e1539f2cc45b7b9fa7c272da2e1d7'}  \n",
       "2  {'offer id': '2906b810c7d4411798c6938adc9daaa5'}  \n",
       "3  {'offer id': 'fafdcd668e3743c1bb461111dcafc2a4'}  \n",
       "4  {'offer id': '4d5c57ea9a6940dd891ad53e9dbe8da0'}  "
      ]
     },
     "execution_count": 18,
     "metadata": {},
     "output_type": "execute_result"
    }
   ],
   "source": [
    "# transcript.json data exploration\n",
    "transcript.head()"
   ]
  },
  {
   "cell_type": "code",
   "execution_count": 19,
   "metadata": {},
   "outputs": [
    {
     "data": {
      "text/html": [
       "<div>\n",
       "<style scoped>\n",
       "    .dataframe tbody tr th:only-of-type {\n",
       "        vertical-align: middle;\n",
       "    }\n",
       "\n",
       "    .dataframe tbody tr th {\n",
       "        vertical-align: top;\n",
       "    }\n",
       "\n",
       "    .dataframe thead th {\n",
       "        text-align: right;\n",
       "    }\n",
       "</style>\n",
       "<table border=\"1\" class=\"dataframe\">\n",
       "  <thead>\n",
       "    <tr style=\"text-align: right;\">\n",
       "      <th></th>\n",
       "      <th>event</th>\n",
       "      <th>person</th>\n",
       "      <th>time</th>\n",
       "      <th>value</th>\n",
       "    </tr>\n",
       "  </thead>\n",
       "  <tbody>\n",
       "    <tr>\n",
       "      <th>306529</th>\n",
       "      <td>transaction</td>\n",
       "      <td>b3a1272bc9904337b331bf348c3e8c17</td>\n",
       "      <td>714</td>\n",
       "      <td>{'amount': 1.5899999999999999}</td>\n",
       "    </tr>\n",
       "    <tr>\n",
       "      <th>306530</th>\n",
       "      <td>transaction</td>\n",
       "      <td>68213b08d99a4ae1b0dcb72aebd9aa35</td>\n",
       "      <td>714</td>\n",
       "      <td>{'amount': 9.53}</td>\n",
       "    </tr>\n",
       "    <tr>\n",
       "      <th>306531</th>\n",
       "      <td>transaction</td>\n",
       "      <td>a00058cf10334a308c68e7631c529907</td>\n",
       "      <td>714</td>\n",
       "      <td>{'amount': 3.61}</td>\n",
       "    </tr>\n",
       "    <tr>\n",
       "      <th>306532</th>\n",
       "      <td>transaction</td>\n",
       "      <td>76ddbd6576844afe811f1a3c0fbb5bec</td>\n",
       "      <td>714</td>\n",
       "      <td>{'amount': 3.5300000000000002}</td>\n",
       "    </tr>\n",
       "    <tr>\n",
       "      <th>306533</th>\n",
       "      <td>transaction</td>\n",
       "      <td>c02b10e8752c4d8e9b73f918558531f7</td>\n",
       "      <td>714</td>\n",
       "      <td>{'amount': 4.05}</td>\n",
       "    </tr>\n",
       "  </tbody>\n",
       "</table>\n",
       "</div>"
      ],
      "text/plain": [
       "              event                            person  time  \\\n",
       "306529  transaction  b3a1272bc9904337b331bf348c3e8c17   714   \n",
       "306530  transaction  68213b08d99a4ae1b0dcb72aebd9aa35   714   \n",
       "306531  transaction  a00058cf10334a308c68e7631c529907   714   \n",
       "306532  transaction  76ddbd6576844afe811f1a3c0fbb5bec   714   \n",
       "306533  transaction  c02b10e8752c4d8e9b73f918558531f7   714   \n",
       "\n",
       "                                 value  \n",
       "306529  {'amount': 1.5899999999999999}  \n",
       "306530                {'amount': 9.53}  \n",
       "306531                {'amount': 3.61}  \n",
       "306532  {'amount': 3.5300000000000002}  \n",
       "306533                {'amount': 4.05}  "
      ]
     },
     "execution_count": 19,
     "metadata": {},
     "output_type": "execute_result"
    }
   ],
   "source": [
    "transcript.tail()"
   ]
  },
  {
   "cell_type": "code",
   "execution_count": 20,
   "metadata": {},
   "outputs": [
    {
     "data": {
      "text/html": [
       "<div>\n",
       "<style scoped>\n",
       "    .dataframe tbody tr th:only-of-type {\n",
       "        vertical-align: middle;\n",
       "    }\n",
       "\n",
       "    .dataframe tbody tr th {\n",
       "        vertical-align: top;\n",
       "    }\n",
       "\n",
       "    .dataframe thead th {\n",
       "        text-align: right;\n",
       "    }\n",
       "</style>\n",
       "<table border=\"1\" class=\"dataframe\">\n",
       "  <thead>\n",
       "    <tr style=\"text-align: right;\">\n",
       "      <th></th>\n",
       "      <th>time</th>\n",
       "    </tr>\n",
       "  </thead>\n",
       "  <tbody>\n",
       "    <tr>\n",
       "      <th>count</th>\n",
       "      <td>306534.000000</td>\n",
       "    </tr>\n",
       "    <tr>\n",
       "      <th>mean</th>\n",
       "      <td>366.382940</td>\n",
       "    </tr>\n",
       "    <tr>\n",
       "      <th>std</th>\n",
       "      <td>200.326314</td>\n",
       "    </tr>\n",
       "    <tr>\n",
       "      <th>min</th>\n",
       "      <td>0.000000</td>\n",
       "    </tr>\n",
       "    <tr>\n",
       "      <th>25%</th>\n",
       "      <td>186.000000</td>\n",
       "    </tr>\n",
       "    <tr>\n",
       "      <th>50%</th>\n",
       "      <td>408.000000</td>\n",
       "    </tr>\n",
       "    <tr>\n",
       "      <th>75%</th>\n",
       "      <td>528.000000</td>\n",
       "    </tr>\n",
       "    <tr>\n",
       "      <th>max</th>\n",
       "      <td>714.000000</td>\n",
       "    </tr>\n",
       "  </tbody>\n",
       "</table>\n",
       "</div>"
      ],
      "text/plain": [
       "                time\n",
       "count  306534.000000\n",
       "mean      366.382940\n",
       "std       200.326314\n",
       "min         0.000000\n",
       "25%       186.000000\n",
       "50%       408.000000\n",
       "75%       528.000000\n",
       "max       714.000000"
      ]
     },
     "execution_count": 20,
     "metadata": {},
     "output_type": "execute_result"
    }
   ],
   "source": [
    "transcript.describe()"
   ]
  },
  {
   "cell_type": "markdown",
   "metadata": {},
   "source": [
    "* Adjust event keys to transform one-hot encoded feature\n",
    "* Split offer_id column \n",
    "* Split amount column\n",
    "* Rename person to customer_id"
   ]
  },
  {
   "cell_type": "code",
   "execution_count": 21,
   "metadata": {},
   "outputs": [],
   "source": [
    "def clean_transcript(df):\n",
    "    df_clean = df.copy()\n",
    "    \n",
    "    df_clean['event'] = df_clean['event'].str.replace(' ', '_')\n",
    "    print('(clean_transcript): Adjust event value...')\n",
    "    \n",
    "    df_clean['offer_id'] = [[*i.values()][0] if [*i.keys()][0] in ['offer id', 'offer_id'] else None for i in df_clean.value]\n",
    "    print('(clean_transcript): offer_id column clean...')\n",
    "    \n",
    "    df_clean.rename(columns={'person':'customer_id'}, inplace=True)\n",
    "    print('(clean_transcript): Rename person to customer_id column...')\n",
    "    \n",
    "    df_clean['offer_id'].fillna(0.0, inplace=True)\n",
    "    print('(clean_transcript): Fill offer_id...')\n",
    "    \n",
    "    df_clean['amount'] = [np.round([*i.values()][0], decimals=2) if [*i.keys()][0] == 'amount' else None for i in df_clean.value]\n",
    "    print('(clean_transcript): amount column clean...')\n",
    "    \n",
    "    df_clean.drop(columns='value', inplace=True)\n",
    "    print('(clean_transcript): Drop value column...')\n",
    "    \n",
    "    df_clean['amount'].fillna(0.0, inplace=True)\n",
    "    print('(clean_transcript): Fill amount...')\n",
    "    \n",
    "    df_clean = df_clean.groupby(['customer_id','offer_id','event'])['time'].count().unstack()\n",
    "    df_clean.reset_index(level=[0,1], inplace=True)\n",
    "    print('(clean_transcript): Consolidate customer events...')\n",
    "    \n",
    "    # A user can receive an offer, never actually view the offer, and still complete the offer\n",
    "    # but to be successful we only should consider when event_offer_viewed and event_offer_completed\n",
    "    df_clean['successful'] = df_clean['offer_completed'] * df_clean['offer_viewed']\n",
    "    df_clean['successful'] = df_clean['successful'].apply(lambda x: 1.0 if x > 0 else 0.0)\n",
    "    print('(clean_transcript): Add successful column calculated...')\n",
    "    \n",
    "    df_clean.drop(['offer_completed','offer_received','offer_viewed'],axis=1, inplace = True)\n",
    "    print('(clean_transcript): Drop event columns...')\n",
    "        \n",
    "    return df_clean"
   ]
  },
  {
   "cell_type": "code",
   "execution_count": 22,
   "metadata": {},
   "outputs": [
    {
     "name": "stdout",
     "output_type": "stream",
     "text": [
      "(clean_transcript): Adjust event value...\n",
      "(clean_transcript): offer_id column clean...\n",
      "(clean_transcript): Rename person to customer_id column...\n",
      "(clean_transcript): Fill offer_id...\n",
      "(clean_transcript): amount column clean...\n",
      "(clean_transcript): Drop value column...\n",
      "(clean_transcript): Fill amount...\n",
      "(clean_transcript): Consolidate customer events...\n",
      "(clean_transcript): Add successful column calculated...\n",
      "(clean_transcript): Drop event columns...\n"
     ]
    }
   ],
   "source": [
    "# clean transcript dataset\n",
    "transcript_cleaned = clean_transcript(transcript)"
   ]
  },
  {
   "cell_type": "code",
   "execution_count": 23,
   "metadata": {},
   "outputs": [
    {
     "data": {
      "text/html": [
       "<div>\n",
       "<style scoped>\n",
       "    .dataframe tbody tr th:only-of-type {\n",
       "        vertical-align: middle;\n",
       "    }\n",
       "\n",
       "    .dataframe tbody tr th {\n",
       "        vertical-align: top;\n",
       "    }\n",
       "\n",
       "    .dataframe thead th {\n",
       "        text-align: right;\n",
       "    }\n",
       "</style>\n",
       "<table border=\"1\" class=\"dataframe\">\n",
       "  <thead>\n",
       "    <tr style=\"text-align: right;\">\n",
       "      <th>event</th>\n",
       "      <th>customer_id</th>\n",
       "      <th>offer_id</th>\n",
       "      <th>transaction</th>\n",
       "      <th>successful</th>\n",
       "    </tr>\n",
       "  </thead>\n",
       "  <tbody>\n",
       "    <tr>\n",
       "      <th>0</th>\n",
       "      <td>0009655768c64bdeb2e877511632db8f</td>\n",
       "      <td>0</td>\n",
       "      <td>8.0</td>\n",
       "      <td>0.0</td>\n",
       "    </tr>\n",
       "    <tr>\n",
       "      <th>1</th>\n",
       "      <td>0009655768c64bdeb2e877511632db8f</td>\n",
       "      <td>2906b810c7d4411798c6938adc9daaa5</td>\n",
       "      <td>NaN</td>\n",
       "      <td>0.0</td>\n",
       "    </tr>\n",
       "    <tr>\n",
       "      <th>2</th>\n",
       "      <td>0009655768c64bdeb2e877511632db8f</td>\n",
       "      <td>3f207df678b143eea3cee63160fa8bed</td>\n",
       "      <td>NaN</td>\n",
       "      <td>0.0</td>\n",
       "    </tr>\n",
       "    <tr>\n",
       "      <th>3</th>\n",
       "      <td>0009655768c64bdeb2e877511632db8f</td>\n",
       "      <td>5a8bc65990b245e5a138643cd4eb9837</td>\n",
       "      <td>NaN</td>\n",
       "      <td>0.0</td>\n",
       "    </tr>\n",
       "    <tr>\n",
       "      <th>4</th>\n",
       "      <td>0009655768c64bdeb2e877511632db8f</td>\n",
       "      <td>f19421c1d4aa40978ebb69ca19b0e20d</td>\n",
       "      <td>NaN</td>\n",
       "      <td>1.0</td>\n",
       "    </tr>\n",
       "  </tbody>\n",
       "</table>\n",
       "</div>"
      ],
      "text/plain": [
       "event                       customer_id                          offer_id  \\\n",
       "0      0009655768c64bdeb2e877511632db8f                                 0   \n",
       "1      0009655768c64bdeb2e877511632db8f  2906b810c7d4411798c6938adc9daaa5   \n",
       "2      0009655768c64bdeb2e877511632db8f  3f207df678b143eea3cee63160fa8bed   \n",
       "3      0009655768c64bdeb2e877511632db8f  5a8bc65990b245e5a138643cd4eb9837   \n",
       "4      0009655768c64bdeb2e877511632db8f  f19421c1d4aa40978ebb69ca19b0e20d   \n",
       "\n",
       "event  transaction  successful  \n",
       "0              8.0         0.0  \n",
       "1              NaN         0.0  \n",
       "2              NaN         0.0  \n",
       "3              NaN         0.0  \n",
       "4              NaN         1.0  "
      ]
     },
     "execution_count": 23,
     "metadata": {},
     "output_type": "execute_result"
    }
   ],
   "source": [
    "transcript_cleaned.head()"
   ]
  },
  {
   "cell_type": "code",
   "execution_count": 24,
   "metadata": {},
   "outputs": [
    {
     "data": {
      "text/html": [
       "<div>\n",
       "<style scoped>\n",
       "    .dataframe tbody tr th:only-of-type {\n",
       "        vertical-align: middle;\n",
       "    }\n",
       "\n",
       "    .dataframe tbody tr th {\n",
       "        vertical-align: top;\n",
       "    }\n",
       "\n",
       "    .dataframe thead th {\n",
       "        text-align: right;\n",
       "    }\n",
       "</style>\n",
       "<table border=\"1\" class=\"dataframe\">\n",
       "  <thead>\n",
       "    <tr style=\"text-align: right;\">\n",
       "      <th>event</th>\n",
       "      <th>customer_id</th>\n",
       "      <th>offer_id</th>\n",
       "      <th>transaction</th>\n",
       "      <th>successful</th>\n",
       "    </tr>\n",
       "  </thead>\n",
       "  <tbody>\n",
       "    <tr>\n",
       "      <th>79861</th>\n",
       "      <td>ffff82501cea40309d5fdd7edcca4a07</td>\n",
       "      <td>0</td>\n",
       "      <td>15.0</td>\n",
       "      <td>0.0</td>\n",
       "    </tr>\n",
       "    <tr>\n",
       "      <th>79862</th>\n",
       "      <td>ffff82501cea40309d5fdd7edcca4a07</td>\n",
       "      <td>0b1e1539f2cc45b7b9fa7c272da2e1d7</td>\n",
       "      <td>NaN</td>\n",
       "      <td>1.0</td>\n",
       "    </tr>\n",
       "    <tr>\n",
       "      <th>79863</th>\n",
       "      <td>ffff82501cea40309d5fdd7edcca4a07</td>\n",
       "      <td>2906b810c7d4411798c6938adc9daaa5</td>\n",
       "      <td>NaN</td>\n",
       "      <td>1.0</td>\n",
       "    </tr>\n",
       "    <tr>\n",
       "      <th>79864</th>\n",
       "      <td>ffff82501cea40309d5fdd7edcca4a07</td>\n",
       "      <td>9b98b8c7a33c4b65b9aebfe6a799e6d9</td>\n",
       "      <td>NaN</td>\n",
       "      <td>1.0</td>\n",
       "    </tr>\n",
       "    <tr>\n",
       "      <th>79865</th>\n",
       "      <td>ffff82501cea40309d5fdd7edcca4a07</td>\n",
       "      <td>fafdcd668e3743c1bb461111dcafc2a4</td>\n",
       "      <td>NaN</td>\n",
       "      <td>1.0</td>\n",
       "    </tr>\n",
       "  </tbody>\n",
       "</table>\n",
       "</div>"
      ],
      "text/plain": [
       "event                       customer_id                          offer_id  \\\n",
       "79861  ffff82501cea40309d5fdd7edcca4a07                                 0   \n",
       "79862  ffff82501cea40309d5fdd7edcca4a07  0b1e1539f2cc45b7b9fa7c272da2e1d7   \n",
       "79863  ffff82501cea40309d5fdd7edcca4a07  2906b810c7d4411798c6938adc9daaa5   \n",
       "79864  ffff82501cea40309d5fdd7edcca4a07  9b98b8c7a33c4b65b9aebfe6a799e6d9   \n",
       "79865  ffff82501cea40309d5fdd7edcca4a07  fafdcd668e3743c1bb461111dcafc2a4   \n",
       "\n",
       "event  transaction  successful  \n",
       "79861         15.0         0.0  \n",
       "79862          NaN         1.0  \n",
       "79863          NaN         1.0  \n",
       "79864          NaN         1.0  \n",
       "79865          NaN         1.0  "
      ]
     },
     "execution_count": 24,
     "metadata": {},
     "output_type": "execute_result"
    }
   ],
   "source": [
    "transcript_cleaned.tail()"
   ]
  },
  {
   "cell_type": "code",
   "execution_count": 25,
   "metadata": {},
   "outputs": [
    {
     "name": "stdout",
     "output_type": "stream",
     "text": [
      "<class 'pandas.core.frame.DataFrame'>\n",
      "RangeIndex: 79866 entries, 0 to 79865\n",
      "Data columns (total 4 columns):\n",
      "customer_id    79866 non-null object\n",
      "offer_id       79866 non-null object\n",
      "transaction    16578 non-null float64\n",
      "successful     79866 non-null float64\n",
      "dtypes: float64(2), object(2)\n",
      "memory usage: 2.4+ MB\n"
     ]
    }
   ],
   "source": [
    "transcript_cleaned.info()"
   ]
  },
  {
   "cell_type": "code",
   "execution_count": 26,
   "metadata": {},
   "outputs": [
    {
     "data": {
      "text/html": [
       "<div>\n",
       "<style scoped>\n",
       "    .dataframe tbody tr th:only-of-type {\n",
       "        vertical-align: middle;\n",
       "    }\n",
       "\n",
       "    .dataframe tbody tr th {\n",
       "        vertical-align: top;\n",
       "    }\n",
       "\n",
       "    .dataframe thead th {\n",
       "        text-align: right;\n",
       "    }\n",
       "</style>\n",
       "<table border=\"1\" class=\"dataframe\">\n",
       "  <thead>\n",
       "    <tr style=\"text-align: right;\">\n",
       "      <th>event</th>\n",
       "      <th>transaction</th>\n",
       "      <th>successful</th>\n",
       "    </tr>\n",
       "  </thead>\n",
       "  <tbody>\n",
       "    <tr>\n",
       "      <th>count</th>\n",
       "      <td>16578.000000</td>\n",
       "      <td>79866.000000</td>\n",
       "    </tr>\n",
       "    <tr>\n",
       "      <th>mean</th>\n",
       "      <td>8.381771</td>\n",
       "      <td>0.306263</td>\n",
       "    </tr>\n",
       "    <tr>\n",
       "      <th>std</th>\n",
       "      <td>5.009822</td>\n",
       "      <td>0.460943</td>\n",
       "    </tr>\n",
       "    <tr>\n",
       "      <th>min</th>\n",
       "      <td>1.000000</td>\n",
       "      <td>0.000000</td>\n",
       "    </tr>\n",
       "    <tr>\n",
       "      <th>25%</th>\n",
       "      <td>5.000000</td>\n",
       "      <td>0.000000</td>\n",
       "    </tr>\n",
       "    <tr>\n",
       "      <th>50%</th>\n",
       "      <td>7.000000</td>\n",
       "      <td>0.000000</td>\n",
       "    </tr>\n",
       "    <tr>\n",
       "      <th>75%</th>\n",
       "      <td>11.000000</td>\n",
       "      <td>1.000000</td>\n",
       "    </tr>\n",
       "    <tr>\n",
       "      <th>max</th>\n",
       "      <td>36.000000</td>\n",
       "      <td>1.000000</td>\n",
       "    </tr>\n",
       "  </tbody>\n",
       "</table>\n",
       "</div>"
      ],
      "text/plain": [
       "event   transaction    successful\n",
       "count  16578.000000  79866.000000\n",
       "mean       8.381771      0.306263\n",
       "std        5.009822      0.460943\n",
       "min        1.000000      0.000000\n",
       "25%        5.000000      0.000000\n",
       "50%        7.000000      0.000000\n",
       "75%       11.000000      1.000000\n",
       "max       36.000000      1.000000"
      ]
     },
     "execution_count": 26,
     "metadata": {},
     "output_type": "execute_result"
    }
   ],
   "source": [
    "transcript_cleaned.describe()"
   ]
  },
  {
   "cell_type": "markdown",
   "metadata": {},
   "source": [
    "# Exploratory Visualization"
   ]
  },
  {
   "cell_type": "code",
   "execution_count": 27,
   "metadata": {},
   "outputs": [],
   "source": [
    "def merge_df(portfolio_df, profile_df, transcript_df):\n",
    "    # perform a first merge with transcript customer_id with profile\n",
    "    merge1_df = pd.merge(transcript_df, profile_df, on='customer_id', how=\"left\")\n",
    "    # perform a second merge with previous merge and portfolio\n",
    "    merge2_df = pd.merge(merge1_df, portfolio_df, on='offer_id', how=\"left\")\n",
    "    \n",
    "    return merge2_df"
   ]
  },
  {
   "cell_type": "code",
   "execution_count": 28,
   "metadata": {},
   "outputs": [],
   "source": [
    "# merge all datasets into a complete\n",
    "df = merge_df(portfolio_cleaned, profile_cleaned, transcript_cleaned)"
   ]
  },
  {
   "cell_type": "code",
   "execution_count": 29,
   "metadata": {},
   "outputs": [],
   "source": [
    "def offer_label(cleaned_df):\n",
    "    # map offer_id with more friendly name\n",
    "    offer_id = {'0b1e1539f2cc45b7b9fa7c272da2e1d7': 'DISCOUNT_1',\n",
    "                '2298d6c36e964ae4a3e7e9706d1fb8c2': 'DISCOUNT_2',\n",
    "                'fafdcd668e3743c1bb461111dcafc2a4': 'DISCOUNT_3',\n",
    "                '2906b810c7d4411798c6938adc9daaa5': 'DISCOUNT_4',\n",
    "                '3f207df678b143eea3cee63160fa8bed': 'INFORM_1',\n",
    "                '5a8bc65990b245e5a138643cd4eb9837': 'INFORM_2',\n",
    "                'ae264e3637204a6fb9bb56bc8210ddfd': 'BOGO_1',\n",
    "                '4d5c57ea9a6940dd891ad53e9dbe8da0': 'BOGO_2',\n",
    "                '9b98b8c7a33c4b65b9aebfe6a799e6d9': 'BOGO_3',\n",
    "                'f19421c1d4aa40978ebb69ca19b0e20d': 'BOGO_4'}\n",
    "    \n",
    "    cleaned_df['offer_label'] = df['offer_id'].apply(lambda x: offer_id[x] if x else None)\n",
    "    \n",
    "    df_offer_label = pd.get_dummies(cleaned_df['offer_label'], prefix='offer_label')\n",
    "    cleaned_df = pd.concat([cleaned_df, df_offer_label], axis=1, sort=False)\n",
    "    print('(clean_transcript): Offer label dummy...')\n",
    "    \n",
    "    return cleaned_df"
   ]
  },
  {
   "cell_type": "code",
   "execution_count": 30,
   "metadata": {},
   "outputs": [
    {
     "name": "stdout",
     "output_type": "stream",
     "text": [
      "(clean_transcript): Offer label dummy...\n"
     ]
    }
   ],
   "source": [
    "# categorize witha friendly name offers\n",
    "df = offer_label(df)"
   ]
  },
  {
   "cell_type": "code",
   "execution_count": 31,
   "metadata": {},
   "outputs": [
    {
     "name": "stdout",
     "output_type": "stream",
     "text": [
      "<class 'pandas.core.frame.DataFrame'>\n",
      "Int64Index: 79866 entries, 0 to 79865\n",
      "Data columns (total 34 columns):\n",
      "customer_id                 79866 non-null object\n",
      "offer_id                    79866 non-null object\n",
      "transaction                 16578 non-null float64\n",
      "successful                  79866 non-null float64\n",
      "age                         79866 non-null int64\n",
      "became_member_on            79866 non-null datetime64[ns]\n",
      "gender                      79866 non-null object\n",
      "income                      69714 non-null float64\n",
      "became_member_on_year       79866 non-null int64\n",
      "gender_F                    79866 non-null uint8\n",
      "gender_M                    79866 non-null uint8\n",
      "gender_O                    79866 non-null uint8\n",
      "difficulty                  63288 non-null float64\n",
      "duration                    63288 non-null float64\n",
      "offer_type                  63288 non-null object\n",
      "reward                      63288 non-null float64\n",
      "channel_email               63288 non-null float64\n",
      "channel_mobile              63288 non-null float64\n",
      "channel_social              63288 non-null float64\n",
      "channel_web                 63288 non-null float64\n",
      "offer_type_bogo             63288 non-null float64\n",
      "offer_type_discount         63288 non-null float64\n",
      "offer_type_informational    63288 non-null float64\n",
      "offer_label                 63288 non-null object\n",
      "offer_label_BOGO_1          79866 non-null uint8\n",
      "offer_label_BOGO_2          79866 non-null uint8\n",
      "offer_label_BOGO_3          79866 non-null uint8\n",
      "offer_label_BOGO_4          79866 non-null uint8\n",
      "offer_label_DISCOUNT_1      79866 non-null uint8\n",
      "offer_label_DISCOUNT_2      79866 non-null uint8\n",
      "offer_label_DISCOUNT_3      79866 non-null uint8\n",
      "offer_label_DISCOUNT_4      79866 non-null uint8\n",
      "offer_label_INFORM_1        79866 non-null uint8\n",
      "offer_label_INFORM_2        79866 non-null uint8\n",
      "dtypes: datetime64[ns](1), float64(13), int64(2), object(5), uint8(13)\n",
      "memory usage: 14.4+ MB\n"
     ]
    }
   ],
   "source": [
    "df.info()"
   ]
  },
  {
   "cell_type": "code",
   "execution_count": 32,
   "metadata": {},
   "outputs": [
    {
     "data": {
      "text/html": [
       "<div>\n",
       "<style scoped>\n",
       "    .dataframe tbody tr th:only-of-type {\n",
       "        vertical-align: middle;\n",
       "    }\n",
       "\n",
       "    .dataframe tbody tr th {\n",
       "        vertical-align: top;\n",
       "    }\n",
       "\n",
       "    .dataframe thead th {\n",
       "        text-align: right;\n",
       "    }\n",
       "</style>\n",
       "<table border=\"1\" class=\"dataframe\">\n",
       "  <thead>\n",
       "    <tr style=\"text-align: right;\">\n",
       "      <th></th>\n",
       "      <th>customer_id</th>\n",
       "      <th>offer_id</th>\n",
       "      <th>transaction</th>\n",
       "      <th>successful</th>\n",
       "      <th>age</th>\n",
       "      <th>became_member_on</th>\n",
       "      <th>gender</th>\n",
       "      <th>income</th>\n",
       "      <th>became_member_on_year</th>\n",
       "      <th>gender_F</th>\n",
       "      <th>...</th>\n",
       "      <th>offer_label_BOGO_1</th>\n",
       "      <th>offer_label_BOGO_2</th>\n",
       "      <th>offer_label_BOGO_3</th>\n",
       "      <th>offer_label_BOGO_4</th>\n",
       "      <th>offer_label_DISCOUNT_1</th>\n",
       "      <th>offer_label_DISCOUNT_2</th>\n",
       "      <th>offer_label_DISCOUNT_3</th>\n",
       "      <th>offer_label_DISCOUNT_4</th>\n",
       "      <th>offer_label_INFORM_1</th>\n",
       "      <th>offer_label_INFORM_2</th>\n",
       "    </tr>\n",
       "  </thead>\n",
       "  <tbody>\n",
       "    <tr>\n",
       "      <th>0</th>\n",
       "      <td>0009655768c64bdeb2e877511632db8f</td>\n",
       "      <td>0</td>\n",
       "      <td>8.0</td>\n",
       "      <td>0.0</td>\n",
       "      <td>33</td>\n",
       "      <td>2017-04-21</td>\n",
       "      <td>M</td>\n",
       "      <td>72000.0</td>\n",
       "      <td>2017</td>\n",
       "      <td>0</td>\n",
       "      <td>...</td>\n",
       "      <td>0</td>\n",
       "      <td>0</td>\n",
       "      <td>0</td>\n",
       "      <td>0</td>\n",
       "      <td>0</td>\n",
       "      <td>0</td>\n",
       "      <td>0</td>\n",
       "      <td>0</td>\n",
       "      <td>0</td>\n",
       "      <td>0</td>\n",
       "    </tr>\n",
       "    <tr>\n",
       "      <th>1</th>\n",
       "      <td>0009655768c64bdeb2e877511632db8f</td>\n",
       "      <td>2906b810c7d4411798c6938adc9daaa5</td>\n",
       "      <td>NaN</td>\n",
       "      <td>0.0</td>\n",
       "      <td>33</td>\n",
       "      <td>2017-04-21</td>\n",
       "      <td>M</td>\n",
       "      <td>72000.0</td>\n",
       "      <td>2017</td>\n",
       "      <td>0</td>\n",
       "      <td>...</td>\n",
       "      <td>0</td>\n",
       "      <td>0</td>\n",
       "      <td>0</td>\n",
       "      <td>0</td>\n",
       "      <td>0</td>\n",
       "      <td>0</td>\n",
       "      <td>0</td>\n",
       "      <td>1</td>\n",
       "      <td>0</td>\n",
       "      <td>0</td>\n",
       "    </tr>\n",
       "    <tr>\n",
       "      <th>2</th>\n",
       "      <td>0009655768c64bdeb2e877511632db8f</td>\n",
       "      <td>3f207df678b143eea3cee63160fa8bed</td>\n",
       "      <td>NaN</td>\n",
       "      <td>0.0</td>\n",
       "      <td>33</td>\n",
       "      <td>2017-04-21</td>\n",
       "      <td>M</td>\n",
       "      <td>72000.0</td>\n",
       "      <td>2017</td>\n",
       "      <td>0</td>\n",
       "      <td>...</td>\n",
       "      <td>0</td>\n",
       "      <td>0</td>\n",
       "      <td>0</td>\n",
       "      <td>0</td>\n",
       "      <td>0</td>\n",
       "      <td>0</td>\n",
       "      <td>0</td>\n",
       "      <td>0</td>\n",
       "      <td>1</td>\n",
       "      <td>0</td>\n",
       "    </tr>\n",
       "    <tr>\n",
       "      <th>3</th>\n",
       "      <td>0009655768c64bdeb2e877511632db8f</td>\n",
       "      <td>5a8bc65990b245e5a138643cd4eb9837</td>\n",
       "      <td>NaN</td>\n",
       "      <td>0.0</td>\n",
       "      <td>33</td>\n",
       "      <td>2017-04-21</td>\n",
       "      <td>M</td>\n",
       "      <td>72000.0</td>\n",
       "      <td>2017</td>\n",
       "      <td>0</td>\n",
       "      <td>...</td>\n",
       "      <td>0</td>\n",
       "      <td>0</td>\n",
       "      <td>0</td>\n",
       "      <td>0</td>\n",
       "      <td>0</td>\n",
       "      <td>0</td>\n",
       "      <td>0</td>\n",
       "      <td>0</td>\n",
       "      <td>0</td>\n",
       "      <td>1</td>\n",
       "    </tr>\n",
       "    <tr>\n",
       "      <th>4</th>\n",
       "      <td>0009655768c64bdeb2e877511632db8f</td>\n",
       "      <td>f19421c1d4aa40978ebb69ca19b0e20d</td>\n",
       "      <td>NaN</td>\n",
       "      <td>1.0</td>\n",
       "      <td>33</td>\n",
       "      <td>2017-04-21</td>\n",
       "      <td>M</td>\n",
       "      <td>72000.0</td>\n",
       "      <td>2017</td>\n",
       "      <td>0</td>\n",
       "      <td>...</td>\n",
       "      <td>0</td>\n",
       "      <td>0</td>\n",
       "      <td>0</td>\n",
       "      <td>1</td>\n",
       "      <td>0</td>\n",
       "      <td>0</td>\n",
       "      <td>0</td>\n",
       "      <td>0</td>\n",
       "      <td>0</td>\n",
       "      <td>0</td>\n",
       "    </tr>\n",
       "  </tbody>\n",
       "</table>\n",
       "<p>5 rows × 34 columns</p>\n",
       "</div>"
      ],
      "text/plain": [
       "                        customer_id                          offer_id  \\\n",
       "0  0009655768c64bdeb2e877511632db8f                                 0   \n",
       "1  0009655768c64bdeb2e877511632db8f  2906b810c7d4411798c6938adc9daaa5   \n",
       "2  0009655768c64bdeb2e877511632db8f  3f207df678b143eea3cee63160fa8bed   \n",
       "3  0009655768c64bdeb2e877511632db8f  5a8bc65990b245e5a138643cd4eb9837   \n",
       "4  0009655768c64bdeb2e877511632db8f  f19421c1d4aa40978ebb69ca19b0e20d   \n",
       "\n",
       "   transaction  successful  age became_member_on gender   income  \\\n",
       "0          8.0         0.0   33       2017-04-21      M  72000.0   \n",
       "1          NaN         0.0   33       2017-04-21      M  72000.0   \n",
       "2          NaN         0.0   33       2017-04-21      M  72000.0   \n",
       "3          NaN         0.0   33       2017-04-21      M  72000.0   \n",
       "4          NaN         1.0   33       2017-04-21      M  72000.0   \n",
       "\n",
       "   became_member_on_year  gender_F          ...           offer_label_BOGO_1  \\\n",
       "0                   2017         0          ...                            0   \n",
       "1                   2017         0          ...                            0   \n",
       "2                   2017         0          ...                            0   \n",
       "3                   2017         0          ...                            0   \n",
       "4                   2017         0          ...                            0   \n",
       "\n",
       "   offer_label_BOGO_2  offer_label_BOGO_3  offer_label_BOGO_4  \\\n",
       "0                   0                   0                   0   \n",
       "1                   0                   0                   0   \n",
       "2                   0                   0                   0   \n",
       "3                   0                   0                   0   \n",
       "4                   0                   0                   1   \n",
       "\n",
       "  offer_label_DISCOUNT_1  offer_label_DISCOUNT_2  offer_label_DISCOUNT_3  \\\n",
       "0                      0                       0                       0   \n",
       "1                      0                       0                       0   \n",
       "2                      0                       0                       0   \n",
       "3                      0                       0                       0   \n",
       "4                      0                       0                       0   \n",
       "\n",
       "   offer_label_DISCOUNT_4  offer_label_INFORM_1  offer_label_INFORM_2  \n",
       "0                       0                     0                     0  \n",
       "1                       1                     0                     0  \n",
       "2                       0                     1                     0  \n",
       "3                       0                     0                     1  \n",
       "4                       0                     0                     0  \n",
       "\n",
       "[5 rows x 34 columns]"
      ]
     },
     "execution_count": 32,
     "metadata": {},
     "output_type": "execute_result"
    }
   ],
   "source": [
    "df.head()"
   ]
  },
  {
   "cell_type": "code",
   "execution_count": 33,
   "metadata": {},
   "outputs": [
    {
     "data": {
      "text/html": [
       "<div>\n",
       "<style scoped>\n",
       "    .dataframe tbody tr th:only-of-type {\n",
       "        vertical-align: middle;\n",
       "    }\n",
       "\n",
       "    .dataframe tbody tr th {\n",
       "        vertical-align: top;\n",
       "    }\n",
       "\n",
       "    .dataframe thead th {\n",
       "        text-align: right;\n",
       "    }\n",
       "</style>\n",
       "<table border=\"1\" class=\"dataframe\">\n",
       "  <thead>\n",
       "    <tr style=\"text-align: right;\">\n",
       "      <th></th>\n",
       "      <th>customer_id</th>\n",
       "      <th>offer_id</th>\n",
       "      <th>transaction</th>\n",
       "      <th>successful</th>\n",
       "      <th>age</th>\n",
       "      <th>became_member_on</th>\n",
       "      <th>gender</th>\n",
       "      <th>income</th>\n",
       "      <th>became_member_on_year</th>\n",
       "      <th>gender_F</th>\n",
       "      <th>...</th>\n",
       "      <th>offer_label_BOGO_1</th>\n",
       "      <th>offer_label_BOGO_2</th>\n",
       "      <th>offer_label_BOGO_3</th>\n",
       "      <th>offer_label_BOGO_4</th>\n",
       "      <th>offer_label_DISCOUNT_1</th>\n",
       "      <th>offer_label_DISCOUNT_2</th>\n",
       "      <th>offer_label_DISCOUNT_3</th>\n",
       "      <th>offer_label_DISCOUNT_4</th>\n",
       "      <th>offer_label_INFORM_1</th>\n",
       "      <th>offer_label_INFORM_2</th>\n",
       "    </tr>\n",
       "  </thead>\n",
       "  <tbody>\n",
       "    <tr>\n",
       "      <th>79861</th>\n",
       "      <td>ffff82501cea40309d5fdd7edcca4a07</td>\n",
       "      <td>0</td>\n",
       "      <td>15.0</td>\n",
       "      <td>0.0</td>\n",
       "      <td>45</td>\n",
       "      <td>2016-11-25</td>\n",
       "      <td>F</td>\n",
       "      <td>62000.0</td>\n",
       "      <td>2016</td>\n",
       "      <td>1</td>\n",
       "      <td>...</td>\n",
       "      <td>0</td>\n",
       "      <td>0</td>\n",
       "      <td>0</td>\n",
       "      <td>0</td>\n",
       "      <td>0</td>\n",
       "      <td>0</td>\n",
       "      <td>0</td>\n",
       "      <td>0</td>\n",
       "      <td>0</td>\n",
       "      <td>0</td>\n",
       "    </tr>\n",
       "    <tr>\n",
       "      <th>79862</th>\n",
       "      <td>ffff82501cea40309d5fdd7edcca4a07</td>\n",
       "      <td>0b1e1539f2cc45b7b9fa7c272da2e1d7</td>\n",
       "      <td>NaN</td>\n",
       "      <td>1.0</td>\n",
       "      <td>45</td>\n",
       "      <td>2016-11-25</td>\n",
       "      <td>F</td>\n",
       "      <td>62000.0</td>\n",
       "      <td>2016</td>\n",
       "      <td>1</td>\n",
       "      <td>...</td>\n",
       "      <td>0</td>\n",
       "      <td>0</td>\n",
       "      <td>0</td>\n",
       "      <td>0</td>\n",
       "      <td>1</td>\n",
       "      <td>0</td>\n",
       "      <td>0</td>\n",
       "      <td>0</td>\n",
       "      <td>0</td>\n",
       "      <td>0</td>\n",
       "    </tr>\n",
       "    <tr>\n",
       "      <th>79863</th>\n",
       "      <td>ffff82501cea40309d5fdd7edcca4a07</td>\n",
       "      <td>2906b810c7d4411798c6938adc9daaa5</td>\n",
       "      <td>NaN</td>\n",
       "      <td>1.0</td>\n",
       "      <td>45</td>\n",
       "      <td>2016-11-25</td>\n",
       "      <td>F</td>\n",
       "      <td>62000.0</td>\n",
       "      <td>2016</td>\n",
       "      <td>1</td>\n",
       "      <td>...</td>\n",
       "      <td>0</td>\n",
       "      <td>0</td>\n",
       "      <td>0</td>\n",
       "      <td>0</td>\n",
       "      <td>0</td>\n",
       "      <td>0</td>\n",
       "      <td>0</td>\n",
       "      <td>1</td>\n",
       "      <td>0</td>\n",
       "      <td>0</td>\n",
       "    </tr>\n",
       "    <tr>\n",
       "      <th>79864</th>\n",
       "      <td>ffff82501cea40309d5fdd7edcca4a07</td>\n",
       "      <td>9b98b8c7a33c4b65b9aebfe6a799e6d9</td>\n",
       "      <td>NaN</td>\n",
       "      <td>1.0</td>\n",
       "      <td>45</td>\n",
       "      <td>2016-11-25</td>\n",
       "      <td>F</td>\n",
       "      <td>62000.0</td>\n",
       "      <td>2016</td>\n",
       "      <td>1</td>\n",
       "      <td>...</td>\n",
       "      <td>0</td>\n",
       "      <td>0</td>\n",
       "      <td>1</td>\n",
       "      <td>0</td>\n",
       "      <td>0</td>\n",
       "      <td>0</td>\n",
       "      <td>0</td>\n",
       "      <td>0</td>\n",
       "      <td>0</td>\n",
       "      <td>0</td>\n",
       "    </tr>\n",
       "    <tr>\n",
       "      <th>79865</th>\n",
       "      <td>ffff82501cea40309d5fdd7edcca4a07</td>\n",
       "      <td>fafdcd668e3743c1bb461111dcafc2a4</td>\n",
       "      <td>NaN</td>\n",
       "      <td>1.0</td>\n",
       "      <td>45</td>\n",
       "      <td>2016-11-25</td>\n",
       "      <td>F</td>\n",
       "      <td>62000.0</td>\n",
       "      <td>2016</td>\n",
       "      <td>1</td>\n",
       "      <td>...</td>\n",
       "      <td>0</td>\n",
       "      <td>0</td>\n",
       "      <td>0</td>\n",
       "      <td>0</td>\n",
       "      <td>0</td>\n",
       "      <td>0</td>\n",
       "      <td>1</td>\n",
       "      <td>0</td>\n",
       "      <td>0</td>\n",
       "      <td>0</td>\n",
       "    </tr>\n",
       "  </tbody>\n",
       "</table>\n",
       "<p>5 rows × 34 columns</p>\n",
       "</div>"
      ],
      "text/plain": [
       "                            customer_id                          offer_id  \\\n",
       "79861  ffff82501cea40309d5fdd7edcca4a07                                 0   \n",
       "79862  ffff82501cea40309d5fdd7edcca4a07  0b1e1539f2cc45b7b9fa7c272da2e1d7   \n",
       "79863  ffff82501cea40309d5fdd7edcca4a07  2906b810c7d4411798c6938adc9daaa5   \n",
       "79864  ffff82501cea40309d5fdd7edcca4a07  9b98b8c7a33c4b65b9aebfe6a799e6d9   \n",
       "79865  ffff82501cea40309d5fdd7edcca4a07  fafdcd668e3743c1bb461111dcafc2a4   \n",
       "\n",
       "       transaction  successful  age became_member_on gender   income  \\\n",
       "79861         15.0         0.0   45       2016-11-25      F  62000.0   \n",
       "79862          NaN         1.0   45       2016-11-25      F  62000.0   \n",
       "79863          NaN         1.0   45       2016-11-25      F  62000.0   \n",
       "79864          NaN         1.0   45       2016-11-25      F  62000.0   \n",
       "79865          NaN         1.0   45       2016-11-25      F  62000.0   \n",
       "\n",
       "       became_member_on_year  gender_F          ...           \\\n",
       "79861                   2016         1          ...            \n",
       "79862                   2016         1          ...            \n",
       "79863                   2016         1          ...            \n",
       "79864                   2016         1          ...            \n",
       "79865                   2016         1          ...            \n",
       "\n",
       "       offer_label_BOGO_1  offer_label_BOGO_2  offer_label_BOGO_3  \\\n",
       "79861                   0                   0                   0   \n",
       "79862                   0                   0                   0   \n",
       "79863                   0                   0                   0   \n",
       "79864                   0                   0                   1   \n",
       "79865                   0                   0                   0   \n",
       "\n",
       "       offer_label_BOGO_4 offer_label_DISCOUNT_1  offer_label_DISCOUNT_2  \\\n",
       "79861                   0                      0                       0   \n",
       "79862                   0                      1                       0   \n",
       "79863                   0                      0                       0   \n",
       "79864                   0                      0                       0   \n",
       "79865                   0                      0                       0   \n",
       "\n",
       "       offer_label_DISCOUNT_3  offer_label_DISCOUNT_4  offer_label_INFORM_1  \\\n",
       "79861                       0                       0                     0   \n",
       "79862                       0                       0                     0   \n",
       "79863                       0                       1                     0   \n",
       "79864                       0                       0                     0   \n",
       "79865                       1                       0                     0   \n",
       "\n",
       "       offer_label_INFORM_2  \n",
       "79861                     0  \n",
       "79862                     0  \n",
       "79863                     0  \n",
       "79864                     0  \n",
       "79865                     0  \n",
       "\n",
       "[5 rows x 34 columns]"
      ]
     },
     "execution_count": 33,
     "metadata": {},
     "output_type": "execute_result"
    }
   ],
   "source": [
    "df.tail()"
   ]
  },
  {
   "cell_type": "code",
   "execution_count": 34,
   "metadata": {},
   "outputs": [
    {
     "data": {
      "text/html": [
       "<div>\n",
       "<style scoped>\n",
       "    .dataframe tbody tr th:only-of-type {\n",
       "        vertical-align: middle;\n",
       "    }\n",
       "\n",
       "    .dataframe tbody tr th {\n",
       "        vertical-align: top;\n",
       "    }\n",
       "\n",
       "    .dataframe thead th {\n",
       "        text-align: right;\n",
       "    }\n",
       "</style>\n",
       "<table border=\"1\" class=\"dataframe\">\n",
       "  <thead>\n",
       "    <tr style=\"text-align: right;\">\n",
       "      <th></th>\n",
       "      <th>transaction</th>\n",
       "      <th>successful</th>\n",
       "      <th>age</th>\n",
       "      <th>income</th>\n",
       "      <th>became_member_on_year</th>\n",
       "      <th>gender_F</th>\n",
       "      <th>gender_M</th>\n",
       "      <th>gender_O</th>\n",
       "      <th>difficulty</th>\n",
       "      <th>duration</th>\n",
       "      <th>...</th>\n",
       "      <th>offer_label_BOGO_1</th>\n",
       "      <th>offer_label_BOGO_2</th>\n",
       "      <th>offer_label_BOGO_3</th>\n",
       "      <th>offer_label_BOGO_4</th>\n",
       "      <th>offer_label_DISCOUNT_1</th>\n",
       "      <th>offer_label_DISCOUNT_2</th>\n",
       "      <th>offer_label_DISCOUNT_3</th>\n",
       "      <th>offer_label_DISCOUNT_4</th>\n",
       "      <th>offer_label_INFORM_1</th>\n",
       "      <th>offer_label_INFORM_2</th>\n",
       "    </tr>\n",
       "  </thead>\n",
       "  <tbody>\n",
       "    <tr>\n",
       "      <th>count</th>\n",
       "      <td>16578.000000</td>\n",
       "      <td>79866.000000</td>\n",
       "      <td>79866.000000</td>\n",
       "      <td>69714.000000</td>\n",
       "      <td>79866.000000</td>\n",
       "      <td>79866.000000</td>\n",
       "      <td>79866.000000</td>\n",
       "      <td>79866.000000</td>\n",
       "      <td>63288.000000</td>\n",
       "      <td>63288.000000</td>\n",
       "      <td>...</td>\n",
       "      <td>79866.000000</td>\n",
       "      <td>79866.000000</td>\n",
       "      <td>79866.000000</td>\n",
       "      <td>79866.000000</td>\n",
       "      <td>79866.000000</td>\n",
       "      <td>79866.000000</td>\n",
       "      <td>79866.000000</td>\n",
       "      <td>79866.000000</td>\n",
       "      <td>79866.000000</td>\n",
       "      <td>79866.000000</td>\n",
       "    </tr>\n",
       "    <tr>\n",
       "      <th>mean</th>\n",
       "      <td>8.381771</td>\n",
       "      <td>0.306263</td>\n",
       "      <td>62.432750</td>\n",
       "      <td>65353.157185</td>\n",
       "      <td>2016.632760</td>\n",
       "      <td>0.360617</td>\n",
       "      <td>0.500088</td>\n",
       "      <td>0.139296</td>\n",
       "      <td>7.711572</td>\n",
       "      <td>6.504819</td>\n",
       "      <td>...</td>\n",
       "      <td>0.079809</td>\n",
       "      <td>0.079258</td>\n",
       "      <td>0.079571</td>\n",
       "      <td>0.078406</td>\n",
       "      <td>0.079809</td>\n",
       "      <td>0.079195</td>\n",
       "      <td>0.079283</td>\n",
       "      <td>0.078694</td>\n",
       "      <td>0.079270</td>\n",
       "      <td>0.079133</td>\n",
       "    </tr>\n",
       "    <tr>\n",
       "      <th>std</th>\n",
       "      <td>5.009822</td>\n",
       "      <td>0.460943</td>\n",
       "      <td>26.720159</td>\n",
       "      <td>21620.693354</td>\n",
       "      <td>1.178794</td>\n",
       "      <td>0.480182</td>\n",
       "      <td>0.500003</td>\n",
       "      <td>0.346257</td>\n",
       "      <td>5.541480</td>\n",
       "      <td>2.203565</td>\n",
       "      <td>...</td>\n",
       "      <td>0.270998</td>\n",
       "      <td>0.270142</td>\n",
       "      <td>0.270629</td>\n",
       "      <td>0.268812</td>\n",
       "      <td>0.270998</td>\n",
       "      <td>0.270045</td>\n",
       "      <td>0.270181</td>\n",
       "      <td>0.269263</td>\n",
       "      <td>0.270162</td>\n",
       "      <td>0.269947</td>\n",
       "    </tr>\n",
       "    <tr>\n",
       "      <th>min</th>\n",
       "      <td>1.000000</td>\n",
       "      <td>0.000000</td>\n",
       "      <td>18.000000</td>\n",
       "      <td>30000.000000</td>\n",
       "      <td>2013.000000</td>\n",
       "      <td>0.000000</td>\n",
       "      <td>0.000000</td>\n",
       "      <td>0.000000</td>\n",
       "      <td>0.000000</td>\n",
       "      <td>3.000000</td>\n",
       "      <td>...</td>\n",
       "      <td>0.000000</td>\n",
       "      <td>0.000000</td>\n",
       "      <td>0.000000</td>\n",
       "      <td>0.000000</td>\n",
       "      <td>0.000000</td>\n",
       "      <td>0.000000</td>\n",
       "      <td>0.000000</td>\n",
       "      <td>0.000000</td>\n",
       "      <td>0.000000</td>\n",
       "      <td>0.000000</td>\n",
       "    </tr>\n",
       "    <tr>\n",
       "      <th>25%</th>\n",
       "      <td>5.000000</td>\n",
       "      <td>0.000000</td>\n",
       "      <td>45.000000</td>\n",
       "      <td>49000.000000</td>\n",
       "      <td>2016.000000</td>\n",
       "      <td>0.000000</td>\n",
       "      <td>0.000000</td>\n",
       "      <td>0.000000</td>\n",
       "      <td>5.000000</td>\n",
       "      <td>5.000000</td>\n",
       "      <td>...</td>\n",
       "      <td>0.000000</td>\n",
       "      <td>0.000000</td>\n",
       "      <td>0.000000</td>\n",
       "      <td>0.000000</td>\n",
       "      <td>0.000000</td>\n",
       "      <td>0.000000</td>\n",
       "      <td>0.000000</td>\n",
       "      <td>0.000000</td>\n",
       "      <td>0.000000</td>\n",
       "      <td>0.000000</td>\n",
       "    </tr>\n",
       "    <tr>\n",
       "      <th>50%</th>\n",
       "      <td>7.000000</td>\n",
       "      <td>0.000000</td>\n",
       "      <td>58.000000</td>\n",
       "      <td>63000.000000</td>\n",
       "      <td>2017.000000</td>\n",
       "      <td>0.000000</td>\n",
       "      <td>1.000000</td>\n",
       "      <td>0.000000</td>\n",
       "      <td>10.000000</td>\n",
       "      <td>7.000000</td>\n",
       "      <td>...</td>\n",
       "      <td>0.000000</td>\n",
       "      <td>0.000000</td>\n",
       "      <td>0.000000</td>\n",
       "      <td>0.000000</td>\n",
       "      <td>0.000000</td>\n",
       "      <td>0.000000</td>\n",
       "      <td>0.000000</td>\n",
       "      <td>0.000000</td>\n",
       "      <td>0.000000</td>\n",
       "      <td>0.000000</td>\n",
       "    </tr>\n",
       "    <tr>\n",
       "      <th>75%</th>\n",
       "      <td>11.000000</td>\n",
       "      <td>1.000000</td>\n",
       "      <td>73.000000</td>\n",
       "      <td>80000.000000</td>\n",
       "      <td>2017.000000</td>\n",
       "      <td>1.000000</td>\n",
       "      <td>1.000000</td>\n",
       "      <td>0.000000</td>\n",
       "      <td>10.000000</td>\n",
       "      <td>7.000000</td>\n",
       "      <td>...</td>\n",
       "      <td>0.000000</td>\n",
       "      <td>0.000000</td>\n",
       "      <td>0.000000</td>\n",
       "      <td>0.000000</td>\n",
       "      <td>0.000000</td>\n",
       "      <td>0.000000</td>\n",
       "      <td>0.000000</td>\n",
       "      <td>0.000000</td>\n",
       "      <td>0.000000</td>\n",
       "      <td>0.000000</td>\n",
       "    </tr>\n",
       "    <tr>\n",
       "      <th>max</th>\n",
       "      <td>36.000000</td>\n",
       "      <td>1.000000</td>\n",
       "      <td>118.000000</td>\n",
       "      <td>120000.000000</td>\n",
       "      <td>2018.000000</td>\n",
       "      <td>1.000000</td>\n",
       "      <td>1.000000</td>\n",
       "      <td>1.000000</td>\n",
       "      <td>20.000000</td>\n",
       "      <td>10.000000</td>\n",
       "      <td>...</td>\n",
       "      <td>1.000000</td>\n",
       "      <td>1.000000</td>\n",
       "      <td>1.000000</td>\n",
       "      <td>1.000000</td>\n",
       "      <td>1.000000</td>\n",
       "      <td>1.000000</td>\n",
       "      <td>1.000000</td>\n",
       "      <td>1.000000</td>\n",
       "      <td>1.000000</td>\n",
       "      <td>1.000000</td>\n",
       "    </tr>\n",
       "  </tbody>\n",
       "</table>\n",
       "<p>8 rows × 28 columns</p>\n",
       "</div>"
      ],
      "text/plain": [
       "        transaction    successful           age         income  \\\n",
       "count  16578.000000  79866.000000  79866.000000   69714.000000   \n",
       "mean       8.381771      0.306263     62.432750   65353.157185   \n",
       "std        5.009822      0.460943     26.720159   21620.693354   \n",
       "min        1.000000      0.000000     18.000000   30000.000000   \n",
       "25%        5.000000      0.000000     45.000000   49000.000000   \n",
       "50%        7.000000      0.000000     58.000000   63000.000000   \n",
       "75%       11.000000      1.000000     73.000000   80000.000000   \n",
       "max       36.000000      1.000000    118.000000  120000.000000   \n",
       "\n",
       "       became_member_on_year      gender_F      gender_M      gender_O  \\\n",
       "count           79866.000000  79866.000000  79866.000000  79866.000000   \n",
       "mean             2016.632760      0.360617      0.500088      0.139296   \n",
       "std                 1.178794      0.480182      0.500003      0.346257   \n",
       "min              2013.000000      0.000000      0.000000      0.000000   \n",
       "25%              2016.000000      0.000000      0.000000      0.000000   \n",
       "50%              2017.000000      0.000000      1.000000      0.000000   \n",
       "75%              2017.000000      1.000000      1.000000      0.000000   \n",
       "max              2018.000000      1.000000      1.000000      1.000000   \n",
       "\n",
       "         difficulty      duration          ...           offer_label_BOGO_1  \\\n",
       "count  63288.000000  63288.000000          ...                 79866.000000   \n",
       "mean       7.711572      6.504819          ...                     0.079809   \n",
       "std        5.541480      2.203565          ...                     0.270998   \n",
       "min        0.000000      3.000000          ...                     0.000000   \n",
       "25%        5.000000      5.000000          ...                     0.000000   \n",
       "50%       10.000000      7.000000          ...                     0.000000   \n",
       "75%       10.000000      7.000000          ...                     0.000000   \n",
       "max       20.000000     10.000000          ...                     1.000000   \n",
       "\n",
       "       offer_label_BOGO_2  offer_label_BOGO_3  offer_label_BOGO_4  \\\n",
       "count        79866.000000        79866.000000        79866.000000   \n",
       "mean             0.079258            0.079571            0.078406   \n",
       "std              0.270142            0.270629            0.268812   \n",
       "min              0.000000            0.000000            0.000000   \n",
       "25%              0.000000            0.000000            0.000000   \n",
       "50%              0.000000            0.000000            0.000000   \n",
       "75%              0.000000            0.000000            0.000000   \n",
       "max              1.000000            1.000000            1.000000   \n",
       "\n",
       "       offer_label_DISCOUNT_1  offer_label_DISCOUNT_2  offer_label_DISCOUNT_3  \\\n",
       "count            79866.000000            79866.000000            79866.000000   \n",
       "mean                 0.079809                0.079195                0.079283   \n",
       "std                  0.270998                0.270045                0.270181   \n",
       "min                  0.000000                0.000000                0.000000   \n",
       "25%                  0.000000                0.000000                0.000000   \n",
       "50%                  0.000000                0.000000                0.000000   \n",
       "75%                  0.000000                0.000000                0.000000   \n",
       "max                  1.000000                1.000000                1.000000   \n",
       "\n",
       "       offer_label_DISCOUNT_4  offer_label_INFORM_1  offer_label_INFORM_2  \n",
       "count            79866.000000          79866.000000          79866.000000  \n",
       "mean                 0.078694              0.079270              0.079133  \n",
       "std                  0.269263              0.270162              0.269947  \n",
       "min                  0.000000              0.000000              0.000000  \n",
       "25%                  0.000000              0.000000              0.000000  \n",
       "50%                  0.000000              0.000000              0.000000  \n",
       "75%                  0.000000              0.000000              0.000000  \n",
       "max                  1.000000              1.000000              1.000000  \n",
       "\n",
       "[8 rows x 28 columns]"
      ]
     },
     "execution_count": 34,
     "metadata": {},
     "output_type": "execute_result"
    }
   ],
   "source": [
    "df.describe()"
   ]
  },
  {
   "cell_type": "markdown",
   "metadata": {},
   "source": [
    "Considering that our solution should focus in successful orders (where they are viewed and completed), it is important to slice the dataframe."
   ]
  },
  {
   "cell_type": "code",
   "execution_count": 35,
   "metadata": {},
   "outputs": [],
   "source": [
    "# separate datasets with successful and unsuccessful data\n",
    "successful_df = df.loc[df['successful'] == 1]\n",
    "unsuccessful_df = df.loc[df['successful'] == 0]"
   ]
  },
  {
   "cell_type": "code",
   "execution_count": 36,
   "metadata": {},
   "outputs": [
    {
     "data": {
      "image/png": "[encoded data removed]",
      "text/plain": [
       "<matplotlib.figure.Figure at 0x7f193f986518>"
      ]
     },
     "metadata": {
      "needs_background": "light"
     },
     "output_type": "display_data"
    }
   ],
   "source": [
    "plt.figure(figsize=(16,8))\n",
    "\n",
    "plt.subplot(221)\n",
    "distplot_by_gender(dataframe=unsuccessful_df, column='age', title='Age vs. Gender')\n",
    "\n",
    "plt.subplot(222)\n",
    "distplot_by_gender(dataframe=unsuccessful_df, column='income', title='Income vs. Gender')"
   ]
  },
  {
   "cell_type": "code",
   "execution_count": 37,
   "metadata": {},
   "outputs": [
    {
     "data": {
      "image/png": "[encoded data removed]",
      "text/plain": [
       "<matplotlib.figure.Figure at 0x7f193f92c7f0>"
      ]
     },
     "metadata": {
      "needs_background": "light"
     },
     "output_type": "display_data"
    }
   ],
   "source": [
    "plt.figure(figsize=(16,8))\n",
    "\n",
    "plt.subplot(221)\n",
    "distplot_by_gender(dataframe=successful_df, column='age', title='Age vs. Gender')\n",
    "\n",
    "plt.subplot(222)\n",
    "distplot_by_gender(dataframe=successful_df, column='income', title='Income vs. Gender')"
   ]
  },
  {
   "cell_type": "code",
   "execution_count": 38,
   "metadata": {},
   "outputs": [
    {
     "data": {
      "text/plain": [
       "<matplotlib.axes._subplots.AxesSubplot at 0x7f193faea898>"
      ]
     },
     "execution_count": 38,
     "metadata": {},
     "output_type": "execute_result"
    },
    {
     "data": {
      "image/png": "[encoded data removed]",
      "text/plain": [
       "<matplotlib.figure.Figure at 0x7f193f8dcc18>"
      ]
     },
     "metadata": {
      "needs_background": "light"
     },
     "output_type": "display_data"
    }
   ],
   "source": [
    "plt.figure(figsize=(16,8))\n",
    "\n",
    "plt.subplot(221)\n",
    "plt.title('Offer Type Successful')\n",
    "successful_df['offer_type'].value_counts().plot(kind='bar')\n",
    "\n",
    "plt.subplot(222)\n",
    "plt.title('Offer Type Unsuccessful')\n",
    "unsuccessful_df['offer_type'].value_counts().plot(kind='bar')\n",
    "\n",
    "plt.subplot(223)\n",
    "plt.title('Offer Label Successful')\n",
    "successful_df['offer_label'].value_counts().plot(kind='bar')\n",
    "\n",
    "plt.subplot(224)\n",
    "plt.title('Offer Label Unsuccessful')\n",
    "unsuccessful_df['offer_label'].value_counts().plot(kind='bar')"
   ]
  },
  {
   "cell_type": "code",
   "execution_count": 39,
   "metadata": {},
   "outputs": [
    {
     "data": {
      "text/plain": [
       "(array([    0.,  1000.,  2000.,  3000.,  4000.,  5000.]),\n",
       " <a list of 6 Text xticklabel objects>)"
      ]
     },
     "execution_count": 39,
     "metadata": {},
     "output_type": "execute_result"
    },
    {
     "data": {
      "image/png": "[encoded data removed]",
      "text/plain": [
       "<matplotlib.figure.Figure at 0x7f193faf2c50>"
      ]
     },
     "metadata": {
      "needs_background": "light"
     },
     "output_type": "display_data"
    }
   ],
   "source": [
    "plt.figure(figsize=(18,18))\n",
    "\n",
    "plt.subplot(321)\n",
    "sns.countplot(x='offer_label', data=successful_df, hue='gender');\n",
    "plt.xticks(rotation=45)\n",
    "\n",
    "plt.subplot(322)\n",
    "sns.countplot(y='became_member_on_year', data=successful_df, hue='offer_type');\n",
    "plt.xticks(rotation=45)"
   ]
  },
  {
   "cell_type": "code",
   "execution_count": 40,
   "metadata": {},
   "outputs": [
    {
     "data": {
      "text/plain": [
       "successful  offer_type   \n",
       "0.0         bogo             13494\n",
       "            discount         12683\n",
       "            informational    12651\n",
       "1.0         bogo             11827\n",
       "            discount         12633\n",
       "Name: offer_type, dtype: int64"
      ]
     },
     "execution_count": 40,
     "metadata": {},
     "output_type": "execute_result"
    }
   ],
   "source": [
    "df.groupby(['successful','offer_type'])['offer_type'].count()"
   ]
  },
  {
   "cell_type": "markdown",
   "metadata": {},
   "source": [
    "# Algorithms and Techniques"
   ]
  },
  {
   "cell_type": "markdown",
   "metadata": {},
   "source": [
    "## 1. Data Preparation"
   ]
  },
  {
   "cell_type": "code",
   "execution_count": 41,
   "metadata": {},
   "outputs": [
    {
     "name": "stdout",
     "output_type": "stream",
     "text": [
      "<class 'pandas.core.frame.DataFrame'>\n",
      "Int64Index: 79866 entries, 0 to 79865\n",
      "Data columns (total 34 columns):\n",
      "customer_id                 79866 non-null object\n",
      "offer_id                    79866 non-null object\n",
      "transaction                 16578 non-null float64\n",
      "successful                  79866 non-null float64\n",
      "age                         79866 non-null int64\n",
      "became_member_on            79866 non-null datetime64[ns]\n",
      "gender                      79866 non-null object\n",
      "income                      69714 non-null float64\n",
      "became_member_on_year       79866 non-null int64\n",
      "gender_F                    79866 non-null uint8\n",
      "gender_M                    79866 non-null uint8\n",
      "gender_O                    79866 non-null uint8\n",
      "difficulty                  63288 non-null float64\n",
      "duration                    63288 non-null float64\n",
      "offer_type                  63288 non-null object\n",
      "reward                      63288 non-null float64\n",
      "channel_email               63288 non-null float64\n",
      "channel_mobile              63288 non-null float64\n",
      "channel_social              63288 non-null float64\n",
      "channel_web                 63288 non-null float64\n",
      "offer_type_bogo             63288 non-null float64\n",
      "offer_type_discount         63288 non-null float64\n",
      "offer_type_informational    63288 non-null float64\n",
      "offer_label                 63288 non-null object\n",
      "offer_label_BOGO_1          79866 non-null uint8\n",
      "offer_label_BOGO_2          79866 non-null uint8\n",
      "offer_label_BOGO_3          79866 non-null uint8\n",
      "offer_label_BOGO_4          79866 non-null uint8\n",
      "offer_label_DISCOUNT_1      79866 non-null uint8\n",
      "offer_label_DISCOUNT_2      79866 non-null uint8\n",
      "offer_label_DISCOUNT_3      79866 non-null uint8\n",
      "offer_label_DISCOUNT_4      79866 non-null uint8\n",
      "offer_label_INFORM_1        79866 non-null uint8\n",
      "offer_label_INFORM_2        79866 non-null uint8\n",
      "dtypes: datetime64[ns](1), float64(13), int64(2), object(5), uint8(13)\n",
      "memory usage: 14.4+ MB\n"
     ]
    }
   ],
   "source": [
    "# check dataset columsn to drop\n",
    "df.info()"
   ]
  },
  {
   "cell_type": "code",
   "execution_count": 42,
   "metadata": {},
   "outputs": [
    {
     "data": {
      "text/html": [
       "<div>\n",
       "<style scoped>\n",
       "    .dataframe tbody tr th:only-of-type {\n",
       "        vertical-align: middle;\n",
       "    }\n",
       "\n",
       "    .dataframe tbody tr th {\n",
       "        vertical-align: top;\n",
       "    }\n",
       "\n",
       "    .dataframe thead th {\n",
       "        text-align: right;\n",
       "    }\n",
       "</style>\n",
       "<table border=\"1\" class=\"dataframe\">\n",
       "  <thead>\n",
       "    <tr style=\"text-align: right;\">\n",
       "      <th></th>\n",
       "      <th>customer_id</th>\n",
       "      <th>offer_id</th>\n",
       "      <th>transaction</th>\n",
       "      <th>successful</th>\n",
       "      <th>age</th>\n",
       "      <th>became_member_on</th>\n",
       "      <th>gender</th>\n",
       "      <th>income</th>\n",
       "      <th>became_member_on_year</th>\n",
       "      <th>gender_F</th>\n",
       "      <th>...</th>\n",
       "      <th>offer_label_BOGO_1</th>\n",
       "      <th>offer_label_BOGO_2</th>\n",
       "      <th>offer_label_BOGO_3</th>\n",
       "      <th>offer_label_BOGO_4</th>\n",
       "      <th>offer_label_DISCOUNT_1</th>\n",
       "      <th>offer_label_DISCOUNT_2</th>\n",
       "      <th>offer_label_DISCOUNT_3</th>\n",
       "      <th>offer_label_DISCOUNT_4</th>\n",
       "      <th>offer_label_INFORM_1</th>\n",
       "      <th>offer_label_INFORM_2</th>\n",
       "    </tr>\n",
       "  </thead>\n",
       "  <tbody>\n",
       "    <tr>\n",
       "      <th>0</th>\n",
       "      <td>0009655768c64bdeb2e877511632db8f</td>\n",
       "      <td>0</td>\n",
       "      <td>8.0</td>\n",
       "      <td>0.0</td>\n",
       "      <td>33</td>\n",
       "      <td>2017-04-21</td>\n",
       "      <td>M</td>\n",
       "      <td>72000.0</td>\n",
       "      <td>2017</td>\n",
       "      <td>0</td>\n",
       "      <td>...</td>\n",
       "      <td>0</td>\n",
       "      <td>0</td>\n",
       "      <td>0</td>\n",
       "      <td>0</td>\n",
       "      <td>0</td>\n",
       "      <td>0</td>\n",
       "      <td>0</td>\n",
       "      <td>0</td>\n",
       "      <td>0</td>\n",
       "      <td>0</td>\n",
       "    </tr>\n",
       "    <tr>\n",
       "      <th>1</th>\n",
       "      <td>0009655768c64bdeb2e877511632db8f</td>\n",
       "      <td>2906b810c7d4411798c6938adc9daaa5</td>\n",
       "      <td>NaN</td>\n",
       "      <td>0.0</td>\n",
       "      <td>33</td>\n",
       "      <td>2017-04-21</td>\n",
       "      <td>M</td>\n",
       "      <td>72000.0</td>\n",
       "      <td>2017</td>\n",
       "      <td>0</td>\n",
       "      <td>...</td>\n",
       "      <td>0</td>\n",
       "      <td>0</td>\n",
       "      <td>0</td>\n",
       "      <td>0</td>\n",
       "      <td>0</td>\n",
       "      <td>0</td>\n",
       "      <td>0</td>\n",
       "      <td>1</td>\n",
       "      <td>0</td>\n",
       "      <td>0</td>\n",
       "    </tr>\n",
       "    <tr>\n",
       "      <th>2</th>\n",
       "      <td>0009655768c64bdeb2e877511632db8f</td>\n",
       "      <td>3f207df678b143eea3cee63160fa8bed</td>\n",
       "      <td>NaN</td>\n",
       "      <td>0.0</td>\n",
       "      <td>33</td>\n",
       "      <td>2017-04-21</td>\n",
       "      <td>M</td>\n",
       "      <td>72000.0</td>\n",
       "      <td>2017</td>\n",
       "      <td>0</td>\n",
       "      <td>...</td>\n",
       "      <td>0</td>\n",
       "      <td>0</td>\n",
       "      <td>0</td>\n",
       "      <td>0</td>\n",
       "      <td>0</td>\n",
       "      <td>0</td>\n",
       "      <td>0</td>\n",
       "      <td>0</td>\n",
       "      <td>1</td>\n",
       "      <td>0</td>\n",
       "    </tr>\n",
       "    <tr>\n",
       "      <th>3</th>\n",
       "      <td>0009655768c64bdeb2e877511632db8f</td>\n",
       "      <td>5a8bc65990b245e5a138643cd4eb9837</td>\n",
       "      <td>NaN</td>\n",
       "      <td>0.0</td>\n",
       "      <td>33</td>\n",
       "      <td>2017-04-21</td>\n",
       "      <td>M</td>\n",
       "      <td>72000.0</td>\n",
       "      <td>2017</td>\n",
       "      <td>0</td>\n",
       "      <td>...</td>\n",
       "      <td>0</td>\n",
       "      <td>0</td>\n",
       "      <td>0</td>\n",
       "      <td>0</td>\n",
       "      <td>0</td>\n",
       "      <td>0</td>\n",
       "      <td>0</td>\n",
       "      <td>0</td>\n",
       "      <td>0</td>\n",
       "      <td>1</td>\n",
       "    </tr>\n",
       "    <tr>\n",
       "      <th>4</th>\n",
       "      <td>0009655768c64bdeb2e877511632db8f</td>\n",
       "      <td>f19421c1d4aa40978ebb69ca19b0e20d</td>\n",
       "      <td>NaN</td>\n",
       "      <td>1.0</td>\n",
       "      <td>33</td>\n",
       "      <td>2017-04-21</td>\n",
       "      <td>M</td>\n",
       "      <td>72000.0</td>\n",
       "      <td>2017</td>\n",
       "      <td>0</td>\n",
       "      <td>...</td>\n",
       "      <td>0</td>\n",
       "      <td>0</td>\n",
       "      <td>0</td>\n",
       "      <td>1</td>\n",
       "      <td>0</td>\n",
       "      <td>0</td>\n",
       "      <td>0</td>\n",
       "      <td>0</td>\n",
       "      <td>0</td>\n",
       "      <td>0</td>\n",
       "    </tr>\n",
       "  </tbody>\n",
       "</table>\n",
       "<p>5 rows × 34 columns</p>\n",
       "</div>"
      ],
      "text/plain": [
       "                        customer_id                          offer_id  \\\n",
       "0  0009655768c64bdeb2e877511632db8f                                 0   \n",
       "1  0009655768c64bdeb2e877511632db8f  2906b810c7d4411798c6938adc9daaa5   \n",
       "2  0009655768c64bdeb2e877511632db8f  3f207df678b143eea3cee63160fa8bed   \n",
       "3  0009655768c64bdeb2e877511632db8f  5a8bc65990b245e5a138643cd4eb9837   \n",
       "4  0009655768c64bdeb2e877511632db8f  f19421c1d4aa40978ebb69ca19b0e20d   \n",
       "\n",
       "   transaction  successful  age became_member_on gender   income  \\\n",
       "0          8.0         0.0   33       2017-04-21      M  72000.0   \n",
       "1          NaN         0.0   33       2017-04-21      M  72000.0   \n",
       "2          NaN         0.0   33       2017-04-21      M  72000.0   \n",
       "3          NaN         0.0   33       2017-04-21      M  72000.0   \n",
       "4          NaN         1.0   33       2017-04-21      M  72000.0   \n",
       "\n",
       "   became_member_on_year  gender_F          ...           offer_label_BOGO_1  \\\n",
       "0                   2017         0          ...                            0   \n",
       "1                   2017         0          ...                            0   \n",
       "2                   2017         0          ...                            0   \n",
       "3                   2017         0          ...                            0   \n",
       "4                   2017         0          ...                            0   \n",
       "\n",
       "   offer_label_BOGO_2  offer_label_BOGO_3  offer_label_BOGO_4  \\\n",
       "0                   0                   0                   0   \n",
       "1                   0                   0                   0   \n",
       "2                   0                   0                   0   \n",
       "3                   0                   0                   0   \n",
       "4                   0                   0                   1   \n",
       "\n",
       "  offer_label_DISCOUNT_1  offer_label_DISCOUNT_2  offer_label_DISCOUNT_3  \\\n",
       "0                      0                       0                       0   \n",
       "1                      0                       0                       0   \n",
       "2                      0                       0                       0   \n",
       "3                      0                       0                       0   \n",
       "4                      0                       0                       0   \n",
       "\n",
       "   offer_label_DISCOUNT_4  offer_label_INFORM_1  offer_label_INFORM_2  \n",
       "0                       0                     0                     0  \n",
       "1                       1                     0                     0  \n",
       "2                       0                     1                     0  \n",
       "3                       0                     0                     1  \n",
       "4                       0                     0                     0  \n",
       "\n",
       "[5 rows x 34 columns]"
      ]
     },
     "execution_count": 42,
     "metadata": {},
     "output_type": "execute_result"
    }
   ],
   "source": [
    "df.head()"
   ]
  },
  {
   "cell_type": "code",
   "execution_count": 43,
   "metadata": {},
   "outputs": [],
   "source": [
    "# Set drop columns\n",
    "drop_columns = ['customer_id', 'became_member_on', \n",
    "                'gender', 'offer_type', 'offer_label', 'offer_id',\n",
    "                'transaction', 'offer_type_bogo', 'offer_type_discount',\n",
    "                'offer_type_informational', 'difficulty', 'duration', 'reward']\n",
    "\n",
    "def clean_df(df, drop_columns=None):\n",
    "    df_clean = df.copy()\n",
    "    \n",
    "    # consider only non transaction events\n",
    "    df_clean = df_clean.loc[df_clean['offer_id'] != 0]\n",
    "    \n",
    "    # drop columns\n",
    "    df_clean = df_clean.drop(columns=drop_columns, inplace=False, axis=1)\n",
    "    \n",
    "    # fill income n/a\n",
    "    df_clean['income'] = df_clean['income'].fillna(df_clean['income'].mean())\n",
    "    \n",
    "    return df_clean"
   ]
  },
  {
   "cell_type": "code",
   "execution_count": 44,
   "metadata": {},
   "outputs": [],
   "source": [
    "df_cleaned = clean_df(df, drop_columns=drop_columns)"
   ]
  },
  {
   "cell_type": "code",
   "execution_count": 45,
   "metadata": {},
   "outputs": [
    {
     "name": "stdout",
     "output_type": "stream",
     "text": [
      "<class 'pandas.core.frame.DataFrame'>\n",
      "Int64Index: 63288 entries, 1 to 79865\n",
      "Data columns (total 21 columns):\n",
      "successful                63288 non-null float64\n",
      "age                       63288 non-null int64\n",
      "income                    63288 non-null float64\n",
      "became_member_on_year     63288 non-null int64\n",
      "gender_F                  63288 non-null uint8\n",
      "gender_M                  63288 non-null uint8\n",
      "gender_O                  63288 non-null uint8\n",
      "channel_email             63288 non-null float64\n",
      "channel_mobile            63288 non-null float64\n",
      "channel_social            63288 non-null float64\n",
      "channel_web               63288 non-null float64\n",
      "offer_label_BOGO_1        63288 non-null uint8\n",
      "offer_label_BOGO_2        63288 non-null uint8\n",
      "offer_label_BOGO_3        63288 non-null uint8\n",
      "offer_label_BOGO_4        63288 non-null uint8\n",
      "offer_label_DISCOUNT_1    63288 non-null uint8\n",
      "offer_label_DISCOUNT_2    63288 non-null uint8\n",
      "offer_label_DISCOUNT_3    63288 non-null uint8\n",
      "offer_label_DISCOUNT_4    63288 non-null uint8\n",
      "offer_label_INFORM_1      63288 non-null uint8\n",
      "offer_label_INFORM_2      63288 non-null uint8\n",
      "dtypes: float64(6), int64(2), uint8(13)\n",
      "memory usage: 5.1 MB\n"
     ]
    }
   ],
   "source": [
    "# check columns after cleaning\n",
    "df_cleaned.info()"
   ]
  },
  {
   "cell_type": "code",
   "execution_count": 46,
   "metadata": {},
   "outputs": [
    {
     "data": {
      "text/plain": [
       "successful                0\n",
       "age                       0\n",
       "income                    0\n",
       "became_member_on_year     0\n",
       "gender_F                  0\n",
       "gender_M                  0\n",
       "gender_O                  0\n",
       "channel_email             0\n",
       "channel_mobile            0\n",
       "channel_social            0\n",
       "channel_web               0\n",
       "offer_label_BOGO_1        0\n",
       "offer_label_BOGO_2        0\n",
       "offer_label_BOGO_3        0\n",
       "offer_label_BOGO_4        0\n",
       "offer_label_DISCOUNT_1    0\n",
       "offer_label_DISCOUNT_2    0\n",
       "offer_label_DISCOUNT_3    0\n",
       "offer_label_DISCOUNT_4    0\n",
       "offer_label_INFORM_1      0\n",
       "offer_label_INFORM_2      0\n",
       "dtype: int64"
      ]
     },
     "execution_count": 46,
     "metadata": {},
     "output_type": "execute_result"
    }
   ],
   "source": [
    "# check if there is null values\n",
    "df_cleaned.isnull().sum()"
   ]
  },
  {
   "cell_type": "code",
   "execution_count": 47,
   "metadata": {
    "scrolled": true
   },
   "outputs": [
    {
     "data": {
      "text/html": [
       "<div>\n",
       "<style scoped>\n",
       "    .dataframe tbody tr th:only-of-type {\n",
       "        vertical-align: middle;\n",
       "    }\n",
       "\n",
       "    .dataframe tbody tr th {\n",
       "        vertical-align: top;\n",
       "    }\n",
       "\n",
       "    .dataframe thead th {\n",
       "        text-align: right;\n",
       "    }\n",
       "</style>\n",
       "<table border=\"1\" class=\"dataframe\">\n",
       "  <thead>\n",
       "    <tr style=\"text-align: right;\">\n",
       "      <th></th>\n",
       "      <th>successful</th>\n",
       "      <th>age</th>\n",
       "      <th>income</th>\n",
       "      <th>became_member_on_year</th>\n",
       "      <th>gender_F</th>\n",
       "      <th>gender_M</th>\n",
       "      <th>gender_O</th>\n",
       "      <th>channel_email</th>\n",
       "      <th>channel_mobile</th>\n",
       "      <th>channel_social</th>\n",
       "      <th>...</th>\n",
       "      <th>offer_label_BOGO_1</th>\n",
       "      <th>offer_label_BOGO_2</th>\n",
       "      <th>offer_label_BOGO_3</th>\n",
       "      <th>offer_label_BOGO_4</th>\n",
       "      <th>offer_label_DISCOUNT_1</th>\n",
       "      <th>offer_label_DISCOUNT_2</th>\n",
       "      <th>offer_label_DISCOUNT_3</th>\n",
       "      <th>offer_label_DISCOUNT_4</th>\n",
       "      <th>offer_label_INFORM_1</th>\n",
       "      <th>offer_label_INFORM_2</th>\n",
       "    </tr>\n",
       "  </thead>\n",
       "  <tbody>\n",
       "    <tr>\n",
       "      <th>1</th>\n",
       "      <td>0.0</td>\n",
       "      <td>33</td>\n",
       "      <td>72000.0</td>\n",
       "      <td>2017</td>\n",
       "      <td>0</td>\n",
       "      <td>1</td>\n",
       "      <td>0</td>\n",
       "      <td>1.0</td>\n",
       "      <td>1.0</td>\n",
       "      <td>0.0</td>\n",
       "      <td>...</td>\n",
       "      <td>0</td>\n",
       "      <td>0</td>\n",
       "      <td>0</td>\n",
       "      <td>0</td>\n",
       "      <td>0</td>\n",
       "      <td>0</td>\n",
       "      <td>0</td>\n",
       "      <td>1</td>\n",
       "      <td>0</td>\n",
       "      <td>0</td>\n",
       "    </tr>\n",
       "    <tr>\n",
       "      <th>2</th>\n",
       "      <td>0.0</td>\n",
       "      <td>33</td>\n",
       "      <td>72000.0</td>\n",
       "      <td>2017</td>\n",
       "      <td>0</td>\n",
       "      <td>1</td>\n",
       "      <td>0</td>\n",
       "      <td>1.0</td>\n",
       "      <td>1.0</td>\n",
       "      <td>0.0</td>\n",
       "      <td>...</td>\n",
       "      <td>0</td>\n",
       "      <td>0</td>\n",
       "      <td>0</td>\n",
       "      <td>0</td>\n",
       "      <td>0</td>\n",
       "      <td>0</td>\n",
       "      <td>0</td>\n",
       "      <td>0</td>\n",
       "      <td>1</td>\n",
       "      <td>0</td>\n",
       "    </tr>\n",
       "    <tr>\n",
       "      <th>3</th>\n",
       "      <td>0.0</td>\n",
       "      <td>33</td>\n",
       "      <td>72000.0</td>\n",
       "      <td>2017</td>\n",
       "      <td>0</td>\n",
       "      <td>1</td>\n",
       "      <td>0</td>\n",
       "      <td>1.0</td>\n",
       "      <td>1.0</td>\n",
       "      <td>1.0</td>\n",
       "      <td>...</td>\n",
       "      <td>0</td>\n",
       "      <td>0</td>\n",
       "      <td>0</td>\n",
       "      <td>0</td>\n",
       "      <td>0</td>\n",
       "      <td>0</td>\n",
       "      <td>0</td>\n",
       "      <td>0</td>\n",
       "      <td>0</td>\n",
       "      <td>1</td>\n",
       "    </tr>\n",
       "    <tr>\n",
       "      <th>4</th>\n",
       "      <td>1.0</td>\n",
       "      <td>33</td>\n",
       "      <td>72000.0</td>\n",
       "      <td>2017</td>\n",
       "      <td>0</td>\n",
       "      <td>1</td>\n",
       "      <td>0</td>\n",
       "      <td>1.0</td>\n",
       "      <td>1.0</td>\n",
       "      <td>1.0</td>\n",
       "      <td>...</td>\n",
       "      <td>0</td>\n",
       "      <td>0</td>\n",
       "      <td>0</td>\n",
       "      <td>1</td>\n",
       "      <td>0</td>\n",
       "      <td>0</td>\n",
       "      <td>0</td>\n",
       "      <td>0</td>\n",
       "      <td>0</td>\n",
       "      <td>0</td>\n",
       "    </tr>\n",
       "    <tr>\n",
       "      <th>5</th>\n",
       "      <td>1.0</td>\n",
       "      <td>33</td>\n",
       "      <td>72000.0</td>\n",
       "      <td>2017</td>\n",
       "      <td>0</td>\n",
       "      <td>1</td>\n",
       "      <td>0</td>\n",
       "      <td>1.0</td>\n",
       "      <td>1.0</td>\n",
       "      <td>1.0</td>\n",
       "      <td>...</td>\n",
       "      <td>0</td>\n",
       "      <td>0</td>\n",
       "      <td>0</td>\n",
       "      <td>0</td>\n",
       "      <td>0</td>\n",
       "      <td>0</td>\n",
       "      <td>1</td>\n",
       "      <td>0</td>\n",
       "      <td>0</td>\n",
       "      <td>0</td>\n",
       "    </tr>\n",
       "  </tbody>\n",
       "</table>\n",
       "<p>5 rows × 21 columns</p>\n",
       "</div>"
      ],
      "text/plain": [
       "   successful  age   income  became_member_on_year  gender_F  gender_M  \\\n",
       "1         0.0   33  72000.0                   2017         0         1   \n",
       "2         0.0   33  72000.0                   2017         0         1   \n",
       "3         0.0   33  72000.0                   2017         0         1   \n",
       "4         1.0   33  72000.0                   2017         0         1   \n",
       "5         1.0   33  72000.0                   2017         0         1   \n",
       "\n",
       "   gender_O  channel_email  channel_mobile  channel_social  \\\n",
       "1         0            1.0             1.0             0.0   \n",
       "2         0            1.0             1.0             0.0   \n",
       "3         0            1.0             1.0             1.0   \n",
       "4         0            1.0             1.0             1.0   \n",
       "5         0            1.0             1.0             1.0   \n",
       "\n",
       "           ...           offer_label_BOGO_1  offer_label_BOGO_2  \\\n",
       "1          ...                            0                   0   \n",
       "2          ...                            0                   0   \n",
       "3          ...                            0                   0   \n",
       "4          ...                            0                   0   \n",
       "5          ...                            0                   0   \n",
       "\n",
       "   offer_label_BOGO_3  offer_label_BOGO_4  offer_label_DISCOUNT_1  \\\n",
       "1                   0                   0                       0   \n",
       "2                   0                   0                       0   \n",
       "3                   0                   0                       0   \n",
       "4                   0                   1                       0   \n",
       "5                   0                   0                       0   \n",
       "\n",
       "   offer_label_DISCOUNT_2  offer_label_DISCOUNT_3  offer_label_DISCOUNT_4  \\\n",
       "1                       0                       0                       1   \n",
       "2                       0                       0                       0   \n",
       "3                       0                       0                       0   \n",
       "4                       0                       0                       0   \n",
       "5                       0                       1                       0   \n",
       "\n",
       "   offer_label_INFORM_1  offer_label_INFORM_2  \n",
       "1                     0                     0  \n",
       "2                     1                     0  \n",
       "3                     0                     1  \n",
       "4                     0                     0  \n",
       "5                     0                     0  \n",
       "\n",
       "[5 rows x 21 columns]"
      ]
     },
     "execution_count": 47,
     "metadata": {},
     "output_type": "execute_result"
    }
   ],
   "source": [
    "df_cleaned.head()"
   ]
  },
  {
   "cell_type": "markdown",
   "metadata": {},
   "source": [
    "## 2. Model Pipeline"
   ]
  },
  {
   "cell_type": "code",
   "execution_count": 48,
   "metadata": {},
   "outputs": [],
   "source": [
    "def model_pipeline(input_df):\n",
    "    df_copy = input_df.copy()\n",
    "    \n",
    "    # scaler\n",
    "    scaler = MinMaxScaler()\n",
    "    df_standardized = scaler.fit_transform(df_copy)\n",
    "    \n",
    "    # redefine dataeet after sacling\n",
    "    df_clean = pd.DataFrame(df_standardized, columns=df_copy.columns)\n",
    "    df_labels = df_clean['successful']\n",
    "    df_data = df_clean.drop('successful', axis=1)\n",
    "    \n",
    "    # shuffel\n",
    "    train, labels = shuffle(df_data, df_labels, random_state=RANDOM_STATE)\n",
    "    \n",
    "    X_train, X_test, y_train, y_test = train_test_split(train, labels, test_size=0.2, random_state=RANDOM_STATE)\n",
    "    \n",
    "    return X_train, X_test, y_train, y_test"
   ]
  },
  {
   "cell_type": "code",
   "execution_count": 49,
   "metadata": {},
   "outputs": [],
   "source": [
    "# cleaning results\n",
    "X_train, X_test, y_train, y_test = model_pipeline(df_cleaned)"
   ]
  },
  {
   "cell_type": "markdown",
   "metadata": {},
   "source": [
    "## 3. Training"
   ]
  },
  {
   "cell_type": "code",
   "execution_count": 50,
   "metadata": {},
   "outputs": [],
   "source": [
    "def train(Model=None, params=None):\n",
    "    start_time = time.time()\n",
    "\n",
    "    params = {} if params is None else params\n",
    "    print(\"Parameters used with this training:\")\n",
    "    print(params)\n",
    "    \n",
    "    model_name = Model.__name__\n",
    "    model = Model(**params)\n",
    "    \n",
    "    # train model\n",
    "    model.fit(X_train, y_train)\n",
    "    print(f\"Time elapsed for training: {(time.time() - start_time) / 3:.3f} seconds\")\n",
    "    start_time = time.time()\n",
    "    \n",
    "    # quality check\n",
    "    y_predict = model.predict(X_test)\n",
    "    print(f\"Time elapsed for predict: {(time.time() - start_time) / 3:.3f} seconds\")\n",
    "    confusion = confusion_matrix(y_test, y_predict)\n",
    "    report = classification_report(y_test, y_predict, digits=4)\n",
    "    accuracy = accuracy_score(y_test, y_predict)\n",
    "    print(model_name)\n",
    "    print('Accuracy %.4f' % accuracy)\n",
    "    print(report)\n",
    "    sns.heatmap(confusion, fmt='d', annot=True)\n",
    "    plt.xlabel('Predicted');\n",
    "    plt.ylabel('True')\n",
    "    \n",
    "    \n",
    "    return model"
   ]
  },
  {
   "cell_type": "markdown",
   "metadata": {},
   "source": [
    "## 3.1 RandomForestClassifier"
   ]
  },
  {
   "cell_type": "code",
   "execution_count": 51,
   "metadata": {},
   "outputs": [
    {
     "name": "stdout",
     "output_type": "stream",
     "text": [
      "Fitting 3 folds for each of 8 candidates, totalling 24 fits\n",
      "[CV] max_depth=2, min_samples_split=2, n_estimators=90 ...............\n",
      "[CV]  max_depth=2, min_samples_split=2, n_estimators=90, score=0.697358 -   0.9s\n",
      "[CV] max_depth=2, min_samples_split=2, n_estimators=90 ...............\n"
     ]
    },
    {
     "name": "stderr",
     "output_type": "stream",
     "text": [
      "[Parallel(n_jobs=-1)]: Done   1 out of   1 | elapsed:    0.9s remaining:    0.0s\n"
     ]
    },
    {
     "name": "stdout",
     "output_type": "stream",
     "text": [
      "[CV]  max_depth=2, min_samples_split=2, n_estimators=90, score=0.699218 -   0.9s\n",
      "[CV] max_depth=2, min_samples_split=2, n_estimators=90 ...............\n"
     ]
    },
    {
     "name": "stderr",
     "output_type": "stream",
     "text": [
      "[Parallel(n_jobs=-1)]: Done   2 out of   2 | elapsed:    1.7s remaining:    0.0s\n"
     ]
    },
    {
     "name": "stdout",
     "output_type": "stream",
     "text": [
      "[CV]  max_depth=2, min_samples_split=2, n_estimators=90, score=0.694774 -   0.8s\n",
      "[CV] max_depth=2, min_samples_split=2, n_estimators=120 ..............\n",
      "[CV]  max_depth=2, min_samples_split=2, n_estimators=120, score=0.693447 -   1.1s\n",
      "[CV] max_depth=2, min_samples_split=2, n_estimators=120 ..............\n",
      "[CV]  max_depth=2, min_samples_split=2, n_estimators=120, score=0.694655 -   1.1s\n",
      "[CV] max_depth=2, min_samples_split=2, n_estimators=120 ..............\n",
      "[CV]  max_depth=2, min_samples_split=2, n_estimators=120, score=0.688907 -   1.1s\n",
      "[CV] max_depth=2, min_samples_split=4, n_estimators=90 ...............\n",
      "[CV]  max_depth=2, min_samples_split=4, n_estimators=90, score=0.697358 -   0.8s\n",
      "[CV] max_depth=2, min_samples_split=4, n_estimators=90 ...............\n",
      "[CV]  max_depth=2, min_samples_split=4, n_estimators=90, score=0.699218 -   0.8s\n",
      "[CV] max_depth=2, min_samples_split=4, n_estimators=90 ...............\n",
      "[CV]  max_depth=2, min_samples_split=4, n_estimators=90, score=0.694774 -   0.8s\n",
      "[CV] max_depth=2, min_samples_split=4, n_estimators=120 ..............\n",
      "[CV]  max_depth=2, min_samples_split=4, n_estimators=120, score=0.693447 -   1.1s\n",
      "[CV] max_depth=2, min_samples_split=4, n_estimators=120 ..............\n",
      "[CV]  max_depth=2, min_samples_split=4, n_estimators=120, score=0.694655 -   1.1s\n",
      "[CV] max_depth=2, min_samples_split=4, n_estimators=120 ..............\n",
      "[CV]  max_depth=2, min_samples_split=4, n_estimators=120, score=0.688907 -   1.1s\n",
      "[CV] max_depth=4, min_samples_split=2, n_estimators=90 ...............\n",
      "[CV]  max_depth=4, min_samples_split=2, n_estimators=90, score=0.738061 -   1.2s\n",
      "[CV] max_depth=4, min_samples_split=2, n_estimators=90 ...............\n",
      "[CV]  max_depth=4, min_samples_split=2, n_estimators=90, score=0.740993 -   1.2s\n",
      "[CV] max_depth=4, min_samples_split=2, n_estimators=90 ...............\n",
      "[CV]  max_depth=4, min_samples_split=2, n_estimators=90, score=0.744430 -   1.3s\n",
      "[CV] max_depth=4, min_samples_split=2, n_estimators=120 ..............\n",
      "[CV]  max_depth=4, min_samples_split=2, n_estimators=120, score=0.739009 -   1.6s\n",
      "[CV] max_depth=4, min_samples_split=2, n_estimators=120 ..............\n",
      "[CV]  max_depth=4, min_samples_split=2, n_estimators=120, score=0.746385 -   1.6s\n",
      "[CV] max_depth=4, min_samples_split=2, n_estimators=120 ..............\n",
      "[CV]  max_depth=4, min_samples_split=2, n_estimators=120, score=0.745141 -   1.6s\n",
      "[CV] max_depth=4, min_samples_split=4, n_estimators=90 ...............\n",
      "[CV]  max_depth=4, min_samples_split=4, n_estimators=90, score=0.738061 -   1.2s\n",
      "[CV] max_depth=4, min_samples_split=4, n_estimators=90 ...............\n",
      "[CV]  max_depth=4, min_samples_split=4, n_estimators=90, score=0.740993 -   1.2s\n",
      "[CV] max_depth=4, min_samples_split=4, n_estimators=90 ...............\n",
      "[CV]  max_depth=4, min_samples_split=4, n_estimators=90, score=0.744430 -   1.2s\n",
      "[CV] max_depth=4, min_samples_split=4, n_estimators=120 ..............\n",
      "[CV]  max_depth=4, min_samples_split=4, n_estimators=120, score=0.739009 -   1.5s\n",
      "[CV] max_depth=4, min_samples_split=4, n_estimators=120 ..............\n",
      "[CV]  max_depth=4, min_samples_split=4, n_estimators=120, score=0.746385 -   1.6s\n",
      "[CV] max_depth=4, min_samples_split=4, n_estimators=120 ..............\n",
      "[CV]  max_depth=4, min_samples_split=4, n_estimators=120, score=0.745141 -   1.5s\n"
     ]
    },
    {
     "name": "stderr",
     "output_type": "stream",
     "text": [
      "[Parallel(n_jobs=-1)]: Done  24 out of  24 | elapsed:   28.4s finished\n"
     ]
    },
    {
     "data": {
      "text/plain": [
       "GridSearchCV(cv=3, error_score='raise',\n",
       "       estimator=RandomForestClassifier(bootstrap=True, class_weight=None, criterion='entropy',\n",
       "            max_depth=None, max_features='auto', max_leaf_nodes=None,\n",
       "            min_impurity_decrease=0.0, min_impurity_split=None,\n",
       "            min_samples_leaf=1, min_samples_split=2,\n",
       "            min_weight_fraction_leaf=0.0, n_estimators=10, n_jobs=1,\n",
       "            oob_score=False, random_state=40, verbose=0, warm_start=False),\n",
       "       fit_params={}, iid=True, n_jobs=-1,\n",
       "       param_grid={'n_estimators': [90, 120], 'max_depth': [2, 4], 'min_samples_split': [2, 4]},\n",
       "       pre_dispatch='2*n_jobs', refit=True, scoring=None, verbose=3)"
      ]
     },
     "execution_count": 51,
     "metadata": {},
     "output_type": "execute_result"
    }
   ],
   "source": [
    "rfc_parameters = {'n_estimators':[90, 120], \n",
    "                  'max_depth': [2, 4],\n",
    "                  'min_samples_split': [2, 4]}\n",
    "\n",
    "rfc = RandomForestClassifier(criterion='entropy', random_state=RANDOM_STATE)\n",
    "\n",
    "rfc_gscv = GridSearchCV(rfc, rfc_parameters, cv=3, verbose=3, n_jobs=-1)\n",
    "\n",
    "rfc_gscv.fit(X_train, y_train)"
   ]
  },
  {
   "cell_type": "code",
   "execution_count": 52,
   "metadata": {},
   "outputs": [
    {
     "data": {
      "text/plain": [
       "{'max_depth': 4, 'min_samples_split': 2, 'n_estimators': 120}"
      ]
     },
     "execution_count": 52,
     "metadata": {},
     "output_type": "execute_result"
    }
   ],
   "source": [
    "# display best params\n",
    "rfc_gscv.best_params_"
   ]
  },
  {
   "cell_type": "code",
   "execution_count": 53,
   "metadata": {},
   "outputs": [
    {
     "name": "stdout",
     "output_type": "stream",
     "text": [
      "Parameters used with this training:\n",
      "{'max_depth': 4, 'min_samples_split': 2, 'n_estimators': 120, 'criterion': 'entropy'}\n",
      "Time elapsed for training: 0.712 seconds\n",
      "Time elapsed for predict: 0.030 seconds\n",
      "RandomForestClassifier\n",
      "Accuracy 0.7494\n",
      "             precision    recall  f1-score   support\n",
      "\n",
      "        0.0     0.7619    0.8563    0.8063      7711\n",
      "        1.0     0.7224    0.5828    0.6451      4947\n",
      "\n",
      "avg / total     0.7464    0.7494    0.7433     12658\n",
      "\n"
     ]
    },
    {
     "data": {
      "image/png": "[encoded data removed]",
      "text/plain": [
       "<matplotlib.figure.Figure at 0x7f193f80d780>"
      ]
     },
     "metadata": {
      "needs_background": "light"
     },
     "output_type": "display_data"
    }
   ],
   "source": [
    "rfc_parameters = {**rfc_gscv.best_params_, 'criterion': 'entropy'}\n",
    "\n",
    "rfc = train(Model=RandomForestClassifier, params=rfc_parameters)"
   ]
  },
  {
   "cell_type": "markdown",
   "metadata": {},
   "source": [
    "## 3.2 AdaBoostClassifier"
   ]
  },
  {
   "cell_type": "code",
   "execution_count": 54,
   "metadata": {},
   "outputs": [
    {
     "name": "stdout",
     "output_type": "stream",
     "text": [
      "Fitting 3 folds for each of 4 candidates, totalling 12 fits\n",
      "[CV] learning_rate=0.15, n_estimators=200 ............................\n",
      "[CV] ... learning_rate=0.15, n_estimators=200, score=0.765671 -   4.6s\n",
      "[CV] learning_rate=0.15, n_estimators=200 ............................\n"
     ]
    },
    {
     "name": "stderr",
     "output_type": "stream",
     "text": [
      "[Parallel(n_jobs=-1)]: Done   1 out of   1 | elapsed:    4.6s remaining:    0.0s\n"
     ]
    },
    {
     "name": "stdout",
     "output_type": "stream",
     "text": [
      "[CV] ... learning_rate=0.15, n_estimators=200, score=0.767658 -   4.5s\n",
      "[CV] learning_rate=0.15, n_estimators=200 ............................\n"
     ]
    },
    {
     "name": "stderr",
     "output_type": "stream",
     "text": [
      "[Parallel(n_jobs=-1)]: Done   2 out of   2 | elapsed:    9.1s remaining:    0.0s\n"
     ]
    },
    {
     "name": "stdout",
     "output_type": "stream",
     "text": [
      "[CV] ... learning_rate=0.15, n_estimators=200, score=0.766769 -   4.6s\n",
      "[CV] learning_rate=0.15, n_estimators=400 ............................\n",
      "[CV] ... learning_rate=0.15, n_estimators=400, score=0.767686 -   9.2s\n",
      "[CV] learning_rate=0.15, n_estimators=400 ............................\n",
      "[CV] ... learning_rate=0.15, n_estimators=400, score=0.768429 -   9.0s\n",
      "[CV] learning_rate=0.15, n_estimators=400 ............................\n",
      "[CV] ... learning_rate=0.15, n_estimators=400, score=0.769910 -   9.2s\n",
      "[CV] learning_rate=0.3, n_estimators=200 .............................\n",
      "[CV] .... learning_rate=0.3, n_estimators=200, score=0.767804 -   4.7s\n",
      "[CV] learning_rate=0.3, n_estimators=200 .............................\n",
      "[CV] .... learning_rate=0.3, n_estimators=200, score=0.768666 -   4.6s\n",
      "[CV] learning_rate=0.3, n_estimators=200 .............................\n",
      "[CV] .... learning_rate=0.3, n_estimators=200, score=0.770088 -   4.6s\n",
      "[CV] learning_rate=0.3, n_estimators=400 .............................\n",
      "[CV] .... learning_rate=0.3, n_estimators=400, score=0.769048 -   9.2s\n",
      "[CV] learning_rate=0.3, n_estimators=400 .............................\n",
      "[CV] .... learning_rate=0.3, n_estimators=400, score=0.769910 -   9.0s\n",
      "[CV] learning_rate=0.3, n_estimators=400 .............................\n",
      "[CV] .... learning_rate=0.3, n_estimators=400, score=0.769910 -   9.2s\n"
     ]
    },
    {
     "name": "stderr",
     "output_type": "stream",
     "text": [
      "[Parallel(n_jobs=-1)]: Done  12 out of  12 | elapsed:  1.4min finished\n"
     ]
    },
    {
     "data": {
      "text/plain": [
       "GridSearchCV(cv=3, error_score='raise',\n",
       "       estimator=AdaBoostClassifier(algorithm='SAMME.R', base_estimator=None,\n",
       "          learning_rate=1.0, n_estimators=50, random_state=40),\n",
       "       fit_params={}, iid=True, n_jobs=-1,\n",
       "       param_grid={'n_estimators': [200, 400], 'learning_rate': [0.15, 0.3]},\n",
       "       pre_dispatch='2*n_jobs', refit=True, scoring=None, verbose=3)"
      ]
     },
     "execution_count": 54,
     "metadata": {},
     "output_type": "execute_result"
    }
   ],
   "source": [
    "abc_parameters = {'n_estimators': [200, 400], \n",
    "                  'learning_rate': [0.15, 0.3]}\n",
    "\n",
    "abc = AdaBoostClassifier(random_state=RANDOM_STATE)\n",
    "\n",
    "abc_gscv = GridSearchCV(abc, abc_parameters, cv=3, verbose=3, n_jobs=-1)\n",
    "\n",
    "abc_gscv.fit(X_train, y_train)"
   ]
  },
  {
   "cell_type": "code",
   "execution_count": 55,
   "metadata": {},
   "outputs": [
    {
     "data": {
      "text/plain": [
       "{'learning_rate': 0.3, 'n_estimators': 400}"
      ]
     },
     "execution_count": 55,
     "metadata": {},
     "output_type": "execute_result"
    }
   ],
   "source": [
    "# display best params\n",
    "abc_gscv.best_params_"
   ]
  },
  {
   "cell_type": "code",
   "execution_count": 56,
   "metadata": {},
   "outputs": [
    {
     "name": "stdout",
     "output_type": "stream",
     "text": [
      "Parameters used with this training:\n",
      "{'learning_rate': 0.3, 'n_estimators': 400}\n",
      "Time elapsed for training: 4.294 seconds\n",
      "Time elapsed for predict: 0.205 seconds\n",
      "AdaBoostClassifier\n",
      "Accuracy 0.7676\n",
      "             precision    recall  f1-score   support\n",
      "\n",
      "        0.0     0.8106    0.8070    0.8088      7711\n",
      "        1.0     0.7013    0.7061    0.7037      4947\n",
      "\n",
      "avg / total     0.7679    0.7676    0.7677     12658\n",
      "\n"
     ]
    },
    {
     "data": {
      "image/png": "[encoded data removed]",
      "text/plain": [
       "<matplotlib.figure.Figure at 0x7f193f78f390>"
      ]
     },
     "metadata": {
      "needs_background": "light"
     },
     "output_type": "display_data"
    }
   ],
   "source": [
    "abc = train(Model=AdaBoostClassifier, params=abc_gscv.best_params_)"
   ]
  },
  {
   "cell_type": "markdown",
   "metadata": {},
   "source": [
    "## 3.3 SVC"
   ]
  },
  {
   "cell_type": "code",
   "execution_count": 57,
   "metadata": {},
   "outputs": [
    {
     "name": "stdout",
     "output_type": "stream",
     "text": [
      "Parameters used with this training:\n",
      "{}\n",
      "Time elapsed for training: 0.450 seconds\n",
      "Time elapsed for predict: 0.000 seconds\n",
      "LinearSVC\n",
      "Accuracy 0.7475\n",
      "             precision    recall  f1-score   support\n",
      "\n",
      "        0.0     0.7922    0.7938    0.7930      7711\n",
      "        1.0     0.6776    0.6754    0.6765      4947\n",
      "\n",
      "avg / total     0.7474    0.7475    0.7474     12658\n",
      "\n"
     ]
    },
    {
     "data": {
      "image/png": "[encoded data removed]",
      "text/plain": [
       "<matplotlib.figure.Figure at 0x7f193f7a3978>"
      ]
     },
     "metadata": {
      "needs_background": "light"
     },
     "output_type": "display_data"
    }
   ],
   "source": [
    "lsvc = train(Model=LinearSVC)"
   ]
  },
  {
   "cell_type": "markdown",
   "metadata": {},
   "source": [
    "## 3.4 GradientBoostingClassifier"
   ]
  },
  {
   "cell_type": "code",
   "execution_count": 58,
   "metadata": {},
   "outputs": [
    {
     "name": "stdout",
     "output_type": "stream",
     "text": [
      "Fitting 3 folds for each of 8 candidates, totalling 24 fits\n",
      "[CV] learning_rate=0.15, max_depth=2, n_estimators=200 ...............\n",
      "[CV]  learning_rate=0.15, max_depth=2, n_estimators=200, score=0.775566 -   3.1s\n",
      "[CV] learning_rate=0.15, max_depth=2, n_estimators=200 ...............\n"
     ]
    },
    {
     "name": "stderr",
     "output_type": "stream",
     "text": [
      "[Parallel(n_jobs=-1)]: Done   1 out of   1 | elapsed:    3.1s remaining:    0.0s\n"
     ]
    },
    {
     "name": "stdout",
     "output_type": "stream",
     "text": [
      "[CV]  learning_rate=0.15, max_depth=2, n_estimators=200, score=0.775302 -   3.1s\n",
      "[CV] learning_rate=0.15, max_depth=2, n_estimators=200 ...............\n"
     ]
    },
    {
     "name": "stderr",
     "output_type": "stream",
     "text": [
      "[Parallel(n_jobs=-1)]: Done   2 out of   2 | elapsed:    6.2s remaining:    0.0s\n"
     ]
    },
    {
     "name": "stdout",
     "output_type": "stream",
     "text": [
      "[CV]  learning_rate=0.15, max_depth=2, n_estimators=200, score=0.774473 -   3.3s\n",
      "[CV] learning_rate=0.15, max_depth=2, n_estimators=400 ...............\n",
      "[CV]  learning_rate=0.15, max_depth=2, n_estimators=400, score=0.776455 -   6.9s\n",
      "[CV] learning_rate=0.15, max_depth=2, n_estimators=400 ...............\n",
      "[CV]  learning_rate=0.15, max_depth=2, n_estimators=400, score=0.774413 -   6.6s\n",
      "[CV] learning_rate=0.15, max_depth=2, n_estimators=400 ...............\n",
      "[CV]  learning_rate=0.15, max_depth=2, n_estimators=400, score=0.775480 -   6.0s\n",
      "[CV] learning_rate=0.15, max_depth=4, n_estimators=200 ...............\n",
      "[CV]  learning_rate=0.15, max_depth=4, n_estimators=200, score=0.776632 -   7.2s\n",
      "[CV] learning_rate=0.15, max_depth=4, n_estimators=200 ...............\n",
      "[CV]  learning_rate=0.15, max_depth=4, n_estimators=200, score=0.775302 -   7.1s\n",
      "[CV] learning_rate=0.15, max_depth=4, n_estimators=200 ...............\n",
      "[CV]  learning_rate=0.15, max_depth=4, n_estimators=200, score=0.775895 -   7.0s\n",
      "[CV] learning_rate=0.15, max_depth=4, n_estimators=400 ...............\n",
      "[CV]  learning_rate=0.15, max_depth=4, n_estimators=400, score=0.774618 -  14.2s\n",
      "[CV] learning_rate=0.15, max_depth=4, n_estimators=400 ...............\n",
      "[CV]  learning_rate=0.15, max_depth=4, n_estimators=400, score=0.772813 -  14.3s\n",
      "[CV] learning_rate=0.15, max_depth=4, n_estimators=400 ...............\n",
      "[CV]  learning_rate=0.15, max_depth=4, n_estimators=400, score=0.776784 -  14.3s\n",
      "[CV] learning_rate=0.3, max_depth=2, n_estimators=200 ................\n",
      "[CV]  learning_rate=0.3, max_depth=2, n_estimators=200, score=0.776277 -   3.1s\n",
      "[CV] learning_rate=0.3, max_depth=2, n_estimators=200 ................\n",
      "[CV]  learning_rate=0.3, max_depth=2, n_estimators=200, score=0.774828 -   3.2s\n",
      "[CV] learning_rate=0.3, max_depth=2, n_estimators=200 ................\n",
      "[CV]  learning_rate=0.3, max_depth=2, n_estimators=200, score=0.776665 -   3.1s\n",
      "[CV] learning_rate=0.3, max_depth=2, n_estimators=400 ................\n",
      "[CV]  learning_rate=0.3, max_depth=2, n_estimators=400, score=0.775447 -   6.3s\n",
      "[CV] learning_rate=0.3, max_depth=2, n_estimators=400 ................\n",
      "[CV]  learning_rate=0.3, max_depth=2, n_estimators=400, score=0.773169 -   6.4s\n",
      "[CV] learning_rate=0.3, max_depth=2, n_estimators=400 ................\n",
      "[CV]  learning_rate=0.3, max_depth=2, n_estimators=400, score=0.778798 -   6.2s\n",
      "[CV] learning_rate=0.3, max_depth=4, n_estimators=200 ................\n",
      "[CV]  learning_rate=0.3, max_depth=4, n_estimators=200, score=0.773196 -   7.2s\n",
      "[CV] learning_rate=0.3, max_depth=4, n_estimators=200 ................\n",
      "[CV]  learning_rate=0.3, max_depth=4, n_estimators=200, score=0.776724 -   7.3s\n",
      "[CV] learning_rate=0.3, max_depth=4, n_estimators=200 ................\n",
      "[CV]  learning_rate=0.3, max_depth=4, n_estimators=200, score=0.775184 -   7.0s\n",
      "[CV] learning_rate=0.3, max_depth=4, n_estimators=400 ................\n",
      "[CV]  learning_rate=0.3, max_depth=4, n_estimators=400, score=0.774085 -  14.7s\n",
      "[CV] learning_rate=0.3, max_depth=4, n_estimators=400 ................\n",
      "[CV]  learning_rate=0.3, max_depth=4, n_estimators=400, score=0.774058 -  14.7s\n",
      "[CV] learning_rate=0.3, max_depth=4, n_estimators=400 ................\n",
      "[CV]  learning_rate=0.3, max_depth=4, n_estimators=400, score=0.773050 -  14.3s\n"
     ]
    },
    {
     "name": "stderr",
     "output_type": "stream",
     "text": [
      "[Parallel(n_jobs=-1)]: Done  24 out of  24 | elapsed:  3.1min finished\n"
     ]
    },
    {
     "data": {
      "text/plain": [
       "GridSearchCV(cv=3, error_score='raise',\n",
       "       estimator=GradientBoostingClassifier(criterion='friedman_mse', init=None,\n",
       "              learning_rate=0.1, loss='deviance', max_depth=3,\n",
       "              max_features=None, max_leaf_nodes=None,\n",
       "              min_impurity_decrease=0.0, min_impurity_split=None,\n",
       "              min_samples_leaf=1, min_samples_split=2,\n",
       "              min_weight_fraction_leaf=0.0, n_estimators=100,\n",
       "              presort='auto', random_state=40, subsample=1.0, verbose=0,\n",
       "              warm_start=False),\n",
       "       fit_params={}, iid=True, n_jobs=-1,\n",
       "       param_grid={'n_estimators': [200, 400], 'learning_rate': [0.15, 0.3], 'max_depth': [2, 4]},\n",
       "       pre_dispatch='2*n_jobs', refit=True, scoring=None, verbose=3)"
      ]
     },
     "execution_count": 58,
     "metadata": {},
     "output_type": "execute_result"
    }
   ],
   "source": [
    "gbc_parameters = {'n_estimators': [200, 400], \n",
    "                  'learning_rate': [0.15, 0.3],\n",
    "                  'max_depth': [2, 4]}\n",
    "\n",
    "gbc = GradientBoostingClassifier(random_state=RANDOM_STATE)\n",
    "\n",
    "gbc_gscv = GridSearchCV(gbc, gbc_parameters, cv=3, verbose=3, n_jobs=-1)\n",
    "\n",
    "gbc_gscv.fit(X_train, y_train)"
   ]
  },
  {
   "cell_type": "code",
   "execution_count": 59,
   "metadata": {},
   "outputs": [
    {
     "data": {
      "text/plain": [
       "{'learning_rate': 0.15, 'max_depth': 4, 'n_estimators': 200}"
      ]
     },
     "execution_count": 59,
     "metadata": {},
     "output_type": "execute_result"
    }
   ],
   "source": [
    "# display best params\n",
    "gbc_gscv.best_params_"
   ]
  },
  {
   "cell_type": "code",
   "execution_count": 60,
   "metadata": {},
   "outputs": [
    {
     "name": "stdout",
     "output_type": "stream",
     "text": [
      "Parameters used with this training:\n",
      "{'learning_rate': 0.15, 'max_depth': 4, 'n_estimators': 200}\n",
      "Time elapsed for training: 3.573 seconds\n",
      "Time elapsed for predict: 0.016 seconds\n",
      "GradientBoostingClassifier\n",
      "Accuracy 0.7770\n",
      "             precision    recall  f1-score   support\n",
      "\n",
      "        0.0     0.8121    0.8247    0.8184      7711\n",
      "        1.0     0.7200    0.7026    0.7112      4947\n",
      "\n",
      "avg / total     0.7761    0.7770    0.7765     12658\n",
      "\n"
     ]
    },
    {
     "data": {
      "image/png": "[encoded data removed]",
      "text/plain": [
       "<matplotlib.figure.Figure at 0x7f193f773710>"
      ]
     },
     "metadata": {
      "needs_background": "light"
     },
     "output_type": "display_data"
    }
   ],
   "source": [
    "gbc = train(Model=GradientBoostingClassifier, params=gbc_gscv.best_params_)"
   ]
  },
  {
   "cell_type": "markdown",
   "metadata": {},
   "source": [
    "## 3.5 LogisticRegression"
   ]
  },
  {
   "cell_type": "code",
   "execution_count": 61,
   "metadata": {},
   "outputs": [
    {
     "name": "stdout",
     "output_type": "stream",
     "text": [
      "Fitting 3 folds for each of 6 candidates, totalling 18 fits\n",
      "[CV] C=10, penalty=l1 ................................................\n",
      "[CV] ....................... C=10, penalty=l1, score=0.751866 -   1.7s\n",
      "[CV] C=10, penalty=l1 ................................................\n"
     ]
    },
    {
     "name": "stderr",
     "output_type": "stream",
     "text": [
      "[Parallel(n_jobs=-1)]: Done   1 out of   1 | elapsed:    1.7s remaining:    0.0s\n"
     ]
    },
    {
     "name": "stdout",
     "output_type": "stream",
     "text": [
      "[CV] ....................... C=10, penalty=l1, score=0.751007 -   1.8s\n",
      "[CV] C=10, penalty=l1 ................................................\n"
     ]
    },
    {
     "name": "stderr",
     "output_type": "stream",
     "text": [
      "[Parallel(n_jobs=-1)]: Done   2 out of   2 | elapsed:    3.5s remaining:    0.0s\n"
     ]
    },
    {
     "name": "stdout",
     "output_type": "stream",
     "text": [
      "[CV] ....................... C=10, penalty=l1, score=0.756163 -   2.5s\n",
      "[CV] C=10, penalty=l2 ................................................\n",
      "[CV] ....................... C=10, penalty=l2, score=0.751866 -   0.2s\n",
      "[CV] C=10, penalty=l2 ................................................\n",
      "[CV] ....................... C=10, penalty=l2, score=0.751007 -   0.2s\n",
      "[CV] C=10, penalty=l2 ................................................\n",
      "[CV] ....................... C=10, penalty=l2, score=0.756281 -   0.2s\n",
      "[CV] C=120, penalty=l1 ...............................................\n",
      "[CV] ...................... C=120, penalty=l1, score=0.751866 -   0.2s\n",
      "[CV] C=120, penalty=l1 ...............................................\n",
      "[CV] ...................... C=120, penalty=l1, score=0.751067 -   0.2s\n",
      "[CV] C=120, penalty=l1 ...............................................\n",
      "[CV] ...................... C=120, penalty=l1, score=0.756222 -   0.2s\n",
      "[CV] C=120, penalty=l2 ...............................................\n",
      "[CV] ...................... C=120, penalty=l2, score=0.751807 -   0.2s\n",
      "[CV] C=120, penalty=l2 ...............................................\n",
      "[CV] ...................... C=120, penalty=l2, score=0.751067 -   0.2s\n",
      "[CV] C=120, penalty=l2 ...............................................\n",
      "[CV] ...................... C=120, penalty=l2, score=0.756163 -   0.2s\n",
      "[CV] C=240, penalty=l1 ...............................................\n",
      "[CV] ...................... C=240, penalty=l1, score=0.751807 -   0.2s\n",
      "[CV] C=240, penalty=l1 ...............................................\n",
      "[CV] ...................... C=240, penalty=l1, score=0.751067 -   0.2s\n",
      "[CV] C=240, penalty=l1 ...............................................\n",
      "[CV] ...................... C=240, penalty=l1, score=0.756222 -   0.2s\n",
      "[CV] C=240, penalty=l2 ...............................................\n",
      "[CV] ...................... C=240, penalty=l2, score=0.751866 -   0.3s\n",
      "[CV] C=240, penalty=l2 ...............................................\n",
      "[CV] ...................... C=240, penalty=l2, score=0.751067 -   0.2s\n",
      "[CV] C=240, penalty=l2 ...............................................\n",
      "[CV] ...................... C=240, penalty=l2, score=0.756163 -   0.2s\n"
     ]
    },
    {
     "name": "stderr",
     "output_type": "stream",
     "text": [
      "[Parallel(n_jobs=-1)]: Done  18 out of  18 | elapsed:    9.3s finished\n"
     ]
    },
    {
     "data": {
      "text/plain": [
       "GridSearchCV(cv=3, error_score='raise',\n",
       "       estimator=LogisticRegression(C=1.0, class_weight=None, dual=False, fit_intercept=True,\n",
       "          intercept_scaling=1, max_iter=100, multi_class='ovr', n_jobs=1,\n",
       "          penalty='l2', random_state=40, solver='liblinear', tol=0.0001,\n",
       "          verbose=0, warm_start=False),\n",
       "       fit_params={}, iid=True, n_jobs=-1,\n",
       "       param_grid={'penalty': ['l1', 'l2'], 'C': [10, 120, 240]},\n",
       "       pre_dispatch='2*n_jobs', refit=True, scoring=None, verbose=3)"
      ]
     },
     "execution_count": 61,
     "metadata": {},
     "output_type": "execute_result"
    }
   ],
   "source": [
    "lreg_parameters = {'penalty': ['l1','l2'], 'C': [10, 120, 240]}\n",
    "\n",
    "lreg = LogisticRegression(solver='liblinear', random_state=RANDOM_STATE)\n",
    "\n",
    "lreg_gscv = GridSearchCV(lreg, lreg_parameters, cv=3, verbose=3, n_jobs=-1)\n",
    "\n",
    "lreg_gscv.fit(X_train, y_train)"
   ]
  },
  {
   "cell_type": "code",
   "execution_count": 62,
   "metadata": {},
   "outputs": [
    {
     "data": {
      "text/plain": [
       "{'C': 10, 'penalty': 'l2'}"
      ]
     },
     "execution_count": 62,
     "metadata": {},
     "output_type": "execute_result"
    }
   ],
   "source": [
    "# display best params\n",
    "lreg_gscv.best_params_"
   ]
  },
  {
   "cell_type": "code",
   "execution_count": 63,
   "metadata": {},
   "outputs": [
    {
     "name": "stdout",
     "output_type": "stream",
     "text": [
      "Parameters used with this training:\n",
      "{'solver': 'liblinear', 'C': 10, 'penalty': 'l2'}\n",
      "Time elapsed for training: 0.105 seconds\n",
      "Time elapsed for predict: 0.000 seconds\n",
      "LogisticRegression\n",
      "Accuracy 0.7483\n",
      "             precision    recall  f1-score   support\n",
      "\n",
      "        0.0     0.7930    0.7942    0.7936      7711\n",
      "        1.0     0.6784    0.6768    0.6776      4947\n",
      "\n",
      "avg / total     0.7482    0.7483    0.7482     12658\n",
      "\n"
     ]
    },
    {
     "data": {
      "image/png": "[encoded data removed]",
      "text/plain": [
       "<matplotlib.figure.Figure at 0x7f193f730d30>"
      ]
     },
     "metadata": {
      "needs_background": "light"
     },
     "output_type": "display_data"
    }
   ],
   "source": [
    "lreg = train(Model=LogisticRegression, params={'solver': 'liblinear', **lreg_gscv.best_params_})"
   ]
  },
  {
   "cell_type": "markdown",
   "metadata": {},
   "source": [
    "# Benchmark"
   ]
  },
  {
   "cell_type": "markdown",
   "metadata": {},
   "source": [
    "| Model                      | Training (s) | Predict (s) | Accuracy | Precision | Recall | F1 Score |\n",
    "|----------------------------|--------------|-------------|----------|-----------|--------|----------|\n",
    "| LogisticRegression         | 0.108        | 0.000       | 0.7483   | 0.7482    | 0.7483 | 0.7482   |"
   ]
  },
  {
   "cell_type": "markdown",
   "metadata": {},
   "source": [
    "# Results"
   ]
  },
  {
   "cell_type": "markdown",
   "metadata": {},
   "source": [
    "| Model                      | Training (s) | Predict (s) | Accuracy | Precision | Recall | F1 Score |\n",
    "|----------------------------|--------------|-------------|----------|-----------|--------|----------|\n",
    "| RandomForestClassifier     | 0.712        | 0.032       | 0.7430   | 0.7394    | 0.7430 | 0.7380   |\n",
    "| AdaBoostClassifier         | 4.187        | 0.225       | 0.7676   | 0.7679    | 0.7676 | 0.7677   |\n",
    "| SVC                        | 0.364        | 0.000       | 0.7475   | 0.7474    | 0.7475 | 0.7474   |\n",
    "| GradientBoostingClassifier | 3.850        | 0.016       | 0.7770   | 0.7761    | 0.7770 | 0.7765   |"
   ]
  },
  {
   "cell_type": "code",
   "execution_count": null,
   "metadata": {},
   "outputs": [],
   "source": []
  }
 ],
 "metadata": {
  "kernelspec": {
   "display_name": "Python 3",
   "language": "python",
   "name": "python3"
  },
  "language_info": {
   "codemirror_mode": {
    "name": "ipython",
    "version": 3
   },
   "file_extension": ".py",
   "mimetype": "text/x-python",
   "name": "python",
   "nbconvert_exporter": "python",
   "pygments_lexer": "ipython3",
   "version": "3.6.3"
  }
 },
 "nbformat": 4,
 "nbformat_minor": 2
}
